{
 "cells": [
  {
   "cell_type": "code",
   "execution_count": 1,
   "id": "e25b7b58",
   "metadata": {},
   "outputs": [],
   "source": [
    "# Extraction des données depuis note fichier texte\n",
    "import pandas as pd\n",
    "dataset = pd.read_table(\"market_basket.txt\", delimiter=\"\\t\")"
   ]
  },
  {
   "cell_type": "code",
   "execution_count": 2,
   "id": "5c20d6ac",
   "metadata": {},
   "outputs": [
    {
     "data": {
      "text/html": [
       "<div>\n",
       "<style scoped>\n",
       "    .dataframe tbody tr th:only-of-type {\n",
       "        vertical-align: middle;\n",
       "    }\n",
       "\n",
       "    .dataframe tbody tr th {\n",
       "        vertical-align: top;\n",
       "    }\n",
       "\n",
       "    .dataframe thead th {\n",
       "        text-align: right;\n",
       "    }\n",
       "</style>\n",
       "<table border=\"1\" class=\"dataframe\">\n",
       "  <thead>\n",
       "    <tr style=\"text-align: right;\">\n",
       "      <th></th>\n",
       "      <th>ID</th>\n",
       "      <th>Product</th>\n",
       "    </tr>\n",
       "  </thead>\n",
       "  <tbody>\n",
       "    <tr>\n",
       "      <th>0</th>\n",
       "      <td>1</td>\n",
       "      <td>Peaches</td>\n",
       "    </tr>\n",
       "    <tr>\n",
       "      <th>1</th>\n",
       "      <td>2</td>\n",
       "      <td>Vegetable_Oil</td>\n",
       "    </tr>\n",
       "    <tr>\n",
       "      <th>2</th>\n",
       "      <td>2</td>\n",
       "      <td>Frozen_Corn</td>\n",
       "    </tr>\n",
       "    <tr>\n",
       "      <th>3</th>\n",
       "      <td>3</td>\n",
       "      <td>Plums</td>\n",
       "    </tr>\n",
       "    <tr>\n",
       "      <th>4</th>\n",
       "      <td>4</td>\n",
       "      <td>Pancake_Mix</td>\n",
       "    </tr>\n",
       "    <tr>\n",
       "      <th>5</th>\n",
       "      <td>5</td>\n",
       "      <td>Cheese</td>\n",
       "    </tr>\n",
       "    <tr>\n",
       "      <th>6</th>\n",
       "      <td>6</td>\n",
       "      <td>Cauliflower</td>\n",
       "    </tr>\n",
       "    <tr>\n",
       "      <th>7</th>\n",
       "      <td>7</td>\n",
       "      <td>2pct_Milk</td>\n",
       "    </tr>\n",
       "    <tr>\n",
       "      <th>8</th>\n",
       "      <td>8</td>\n",
       "      <td>98pct_Fat_Free_Hamburger</td>\n",
       "    </tr>\n",
       "    <tr>\n",
       "      <th>9</th>\n",
       "      <td>8</td>\n",
       "      <td>Potato_Chips</td>\n",
       "    </tr>\n",
       "  </tbody>\n",
       "</table>\n",
       "</div>"
      ],
      "text/plain": [
       "   ID                   Product\n",
       "0   1                   Peaches\n",
       "1   2             Vegetable_Oil\n",
       "2   2               Frozen_Corn\n",
       "3   3                     Plums\n",
       "4   4               Pancake_Mix\n",
       "5   5                    Cheese\n",
       "6   6               Cauliflower\n",
       "7   7                 2pct_Milk\n",
       "8   8  98pct_Fat_Free_Hamburger\n",
       "9   8              Potato_Chips"
      ]
     },
     "execution_count": 2,
     "metadata": {},
     "output_type": "execute_result"
    }
   ],
   "source": [
    "# Affichage des premières dix lignes\n",
    "dataset.head(10)"
   ]
  },
  {
   "cell_type": "code",
   "execution_count": 3,
   "id": "fb9aa1fd",
   "metadata": {},
   "outputs": [
    {
     "data": {
      "text/plain": [
       "(12935, 2)"
      ]
     },
     "execution_count": 3,
     "metadata": {},
     "output_type": "execute_result"
    }
   ],
   "source": [
    "dataset.shape"
   ]
  },
  {
   "cell_type": "code",
   "execution_count": 4,
   "id": "855bbc66",
   "metadata": {},
   "outputs": [
    {
     "data": {
      "text/html": [
       "<div>\n",
       "<style scoped>\n",
       "    .dataframe tbody tr th:only-of-type {\n",
       "        vertical-align: middle;\n",
       "    }\n",
       "\n",
       "    .dataframe tbody tr th {\n",
       "        vertical-align: top;\n",
       "    }\n",
       "\n",
       "    .dataframe thead th {\n",
       "        text-align: right;\n",
       "    }\n",
       "</style>\n",
       "<table border=\"1\" class=\"dataframe\">\n",
       "  <thead>\n",
       "    <tr style=\"text-align: right;\">\n",
       "      <th>Product</th>\n",
       "      <th>100_Watt_Lightbulb</th>\n",
       "      <th>2pct_Milk</th>\n",
       "      <th>40_Watt_Lightbulb</th>\n",
       "      <th>60_Watt_Lightbulb</th>\n",
       "      <th>75_Watt_Lightbulb</th>\n",
       "      <th>98pct_Fat_Free_Hamburger</th>\n",
       "      <th>AA_Cell_Batteries</th>\n",
       "    </tr>\n",
       "    <tr>\n",
       "      <th>ID</th>\n",
       "      <th></th>\n",
       "      <th></th>\n",
       "      <th></th>\n",
       "      <th></th>\n",
       "      <th></th>\n",
       "      <th></th>\n",
       "      <th></th>\n",
       "    </tr>\n",
       "  </thead>\n",
       "  <tbody>\n",
       "    <tr>\n",
       "      <th>1</th>\n",
       "      <td>0</td>\n",
       "      <td>0</td>\n",
       "      <td>0</td>\n",
       "      <td>0</td>\n",
       "      <td>0</td>\n",
       "      <td>0</td>\n",
       "      <td>0</td>\n",
       "    </tr>\n",
       "    <tr>\n",
       "      <th>2</th>\n",
       "      <td>0</td>\n",
       "      <td>0</td>\n",
       "      <td>0</td>\n",
       "      <td>0</td>\n",
       "      <td>0</td>\n",
       "      <td>0</td>\n",
       "      <td>0</td>\n",
       "    </tr>\n",
       "    <tr>\n",
       "      <th>3</th>\n",
       "      <td>0</td>\n",
       "      <td>0</td>\n",
       "      <td>0</td>\n",
       "      <td>0</td>\n",
       "      <td>0</td>\n",
       "      <td>0</td>\n",
       "      <td>0</td>\n",
       "    </tr>\n",
       "    <tr>\n",
       "      <th>4</th>\n",
       "      <td>0</td>\n",
       "      <td>0</td>\n",
       "      <td>0</td>\n",
       "      <td>0</td>\n",
       "      <td>0</td>\n",
       "      <td>0</td>\n",
       "      <td>0</td>\n",
       "    </tr>\n",
       "    <tr>\n",
       "      <th>5</th>\n",
       "      <td>0</td>\n",
       "      <td>0</td>\n",
       "      <td>0</td>\n",
       "      <td>0</td>\n",
       "      <td>0</td>\n",
       "      <td>0</td>\n",
       "      <td>0</td>\n",
       "    </tr>\n",
       "    <tr>\n",
       "      <th>6</th>\n",
       "      <td>0</td>\n",
       "      <td>0</td>\n",
       "      <td>0</td>\n",
       "      <td>0</td>\n",
       "      <td>0</td>\n",
       "      <td>0</td>\n",
       "      <td>0</td>\n",
       "    </tr>\n",
       "    <tr>\n",
       "      <th>7</th>\n",
       "      <td>0</td>\n",
       "      <td>1</td>\n",
       "      <td>0</td>\n",
       "      <td>0</td>\n",
       "      <td>0</td>\n",
       "      <td>0</td>\n",
       "      <td>0</td>\n",
       "    </tr>\n",
       "    <tr>\n",
       "      <th>8</th>\n",
       "      <td>0</td>\n",
       "      <td>0</td>\n",
       "      <td>0</td>\n",
       "      <td>0</td>\n",
       "      <td>0</td>\n",
       "      <td>1</td>\n",
       "      <td>0</td>\n",
       "    </tr>\n",
       "    <tr>\n",
       "      <th>9</th>\n",
       "      <td>0</td>\n",
       "      <td>0</td>\n",
       "      <td>0</td>\n",
       "      <td>0</td>\n",
       "      <td>0</td>\n",
       "      <td>0</td>\n",
       "      <td>0</td>\n",
       "    </tr>\n",
       "    <tr>\n",
       "      <th>10</th>\n",
       "      <td>0</td>\n",
       "      <td>0</td>\n",
       "      <td>0</td>\n",
       "      <td>0</td>\n",
       "      <td>0</td>\n",
       "      <td>0</td>\n",
       "      <td>0</td>\n",
       "    </tr>\n",
       "    <tr>\n",
       "      <th>11</th>\n",
       "      <td>0</td>\n",
       "      <td>0</td>\n",
       "      <td>0</td>\n",
       "      <td>0</td>\n",
       "      <td>0</td>\n",
       "      <td>0</td>\n",
       "      <td>0</td>\n",
       "    </tr>\n",
       "    <tr>\n",
       "      <th>12</th>\n",
       "      <td>0</td>\n",
       "      <td>0</td>\n",
       "      <td>0</td>\n",
       "      <td>0</td>\n",
       "      <td>0</td>\n",
       "      <td>0</td>\n",
       "      <td>0</td>\n",
       "    </tr>\n",
       "    <tr>\n",
       "      <th>13</th>\n",
       "      <td>0</td>\n",
       "      <td>0</td>\n",
       "      <td>0</td>\n",
       "      <td>0</td>\n",
       "      <td>0</td>\n",
       "      <td>0</td>\n",
       "      <td>0</td>\n",
       "    </tr>\n",
       "    <tr>\n",
       "      <th>14</th>\n",
       "      <td>0</td>\n",
       "      <td>0</td>\n",
       "      <td>0</td>\n",
       "      <td>0</td>\n",
       "      <td>0</td>\n",
       "      <td>1</td>\n",
       "      <td>0</td>\n",
       "    </tr>\n",
       "    <tr>\n",
       "      <th>15</th>\n",
       "      <td>0</td>\n",
       "      <td>0</td>\n",
       "      <td>0</td>\n",
       "      <td>0</td>\n",
       "      <td>0</td>\n",
       "      <td>0</td>\n",
       "      <td>0</td>\n",
       "    </tr>\n",
       "    <tr>\n",
       "      <th>16</th>\n",
       "      <td>0</td>\n",
       "      <td>0</td>\n",
       "      <td>0</td>\n",
       "      <td>0</td>\n",
       "      <td>0</td>\n",
       "      <td>0</td>\n",
       "      <td>0</td>\n",
       "    </tr>\n",
       "    <tr>\n",
       "      <th>17</th>\n",
       "      <td>0</td>\n",
       "      <td>0</td>\n",
       "      <td>0</td>\n",
       "      <td>0</td>\n",
       "      <td>0</td>\n",
       "      <td>0</td>\n",
       "      <td>0</td>\n",
       "    </tr>\n",
       "    <tr>\n",
       "      <th>18</th>\n",
       "      <td>0</td>\n",
       "      <td>0</td>\n",
       "      <td>0</td>\n",
       "      <td>0</td>\n",
       "      <td>0</td>\n",
       "      <td>0</td>\n",
       "      <td>0</td>\n",
       "    </tr>\n",
       "    <tr>\n",
       "      <th>19</th>\n",
       "      <td>0</td>\n",
       "      <td>0</td>\n",
       "      <td>0</td>\n",
       "      <td>0</td>\n",
       "      <td>0</td>\n",
       "      <td>0</td>\n",
       "      <td>0</td>\n",
       "    </tr>\n",
       "    <tr>\n",
       "      <th>20</th>\n",
       "      <td>0</td>\n",
       "      <td>0</td>\n",
       "      <td>0</td>\n",
       "      <td>0</td>\n",
       "      <td>0</td>\n",
       "      <td>0</td>\n",
       "      <td>0</td>\n",
       "    </tr>\n",
       "    <tr>\n",
       "      <th>21</th>\n",
       "      <td>0</td>\n",
       "      <td>0</td>\n",
       "      <td>0</td>\n",
       "      <td>0</td>\n",
       "      <td>0</td>\n",
       "      <td>0</td>\n",
       "      <td>0</td>\n",
       "    </tr>\n",
       "    <tr>\n",
       "      <th>22</th>\n",
       "      <td>0</td>\n",
       "      <td>0</td>\n",
       "      <td>0</td>\n",
       "      <td>0</td>\n",
       "      <td>0</td>\n",
       "      <td>0</td>\n",
       "      <td>0</td>\n",
       "    </tr>\n",
       "    <tr>\n",
       "      <th>23</th>\n",
       "      <td>0</td>\n",
       "      <td>0</td>\n",
       "      <td>0</td>\n",
       "      <td>0</td>\n",
       "      <td>0</td>\n",
       "      <td>1</td>\n",
       "      <td>0</td>\n",
       "    </tr>\n",
       "    <tr>\n",
       "      <th>24</th>\n",
       "      <td>0</td>\n",
       "      <td>0</td>\n",
       "      <td>0</td>\n",
       "      <td>0</td>\n",
       "      <td>0</td>\n",
       "      <td>0</td>\n",
       "      <td>0</td>\n",
       "    </tr>\n",
       "    <tr>\n",
       "      <th>25</th>\n",
       "      <td>0</td>\n",
       "      <td>1</td>\n",
       "      <td>0</td>\n",
       "      <td>0</td>\n",
       "      <td>0</td>\n",
       "      <td>1</td>\n",
       "      <td>0</td>\n",
       "    </tr>\n",
       "    <tr>\n",
       "      <th>26</th>\n",
       "      <td>1</td>\n",
       "      <td>0</td>\n",
       "      <td>0</td>\n",
       "      <td>0</td>\n",
       "      <td>0</td>\n",
       "      <td>0</td>\n",
       "      <td>0</td>\n",
       "    </tr>\n",
       "    <tr>\n",
       "      <th>27</th>\n",
       "      <td>0</td>\n",
       "      <td>0</td>\n",
       "      <td>0</td>\n",
       "      <td>0</td>\n",
       "      <td>0</td>\n",
       "      <td>0</td>\n",
       "      <td>0</td>\n",
       "    </tr>\n",
       "    <tr>\n",
       "      <th>28</th>\n",
       "      <td>0</td>\n",
       "      <td>1</td>\n",
       "      <td>0</td>\n",
       "      <td>1</td>\n",
       "      <td>0</td>\n",
       "      <td>1</td>\n",
       "      <td>0</td>\n",
       "    </tr>\n",
       "    <tr>\n",
       "      <th>29</th>\n",
       "      <td>0</td>\n",
       "      <td>1</td>\n",
       "      <td>0</td>\n",
       "      <td>0</td>\n",
       "      <td>0</td>\n",
       "      <td>1</td>\n",
       "      <td>0</td>\n",
       "    </tr>\n",
       "    <tr>\n",
       "      <th>30</th>\n",
       "      <td>0</td>\n",
       "      <td>0</td>\n",
       "      <td>0</td>\n",
       "      <td>0</td>\n",
       "      <td>0</td>\n",
       "      <td>0</td>\n",
       "      <td>0</td>\n",
       "    </tr>\n",
       "  </tbody>\n",
       "</table>\n",
       "</div>"
      ],
      "text/plain": [
       "Product  100_Watt_Lightbulb  2pct_Milk  40_Watt_Lightbulb  60_Watt_Lightbulb  \\\n",
       "ID                                                                             \n",
       "1                         0          0                  0                  0   \n",
       "2                         0          0                  0                  0   \n",
       "3                         0          0                  0                  0   \n",
       "4                         0          0                  0                  0   \n",
       "5                         0          0                  0                  0   \n",
       "6                         0          0                  0                  0   \n",
       "7                         0          1                  0                  0   \n",
       "8                         0          0                  0                  0   \n",
       "9                         0          0                  0                  0   \n",
       "10                        0          0                  0                  0   \n",
       "11                        0          0                  0                  0   \n",
       "12                        0          0                  0                  0   \n",
       "13                        0          0                  0                  0   \n",
       "14                        0          0                  0                  0   \n",
       "15                        0          0                  0                  0   \n",
       "16                        0          0                  0                  0   \n",
       "17                        0          0                  0                  0   \n",
       "18                        0          0                  0                  0   \n",
       "19                        0          0                  0                  0   \n",
       "20                        0          0                  0                  0   \n",
       "21                        0          0                  0                  0   \n",
       "22                        0          0                  0                  0   \n",
       "23                        0          0                  0                  0   \n",
       "24                        0          0                  0                  0   \n",
       "25                        0          1                  0                  0   \n",
       "26                        1          0                  0                  0   \n",
       "27                        0          0                  0                  0   \n",
       "28                        0          1                  0                  1   \n",
       "29                        0          1                  0                  0   \n",
       "30                        0          0                  0                  0   \n",
       "\n",
       "Product  75_Watt_Lightbulb  98pct_Fat_Free_Hamburger  AA_Cell_Batteries  \n",
       "ID                                                                       \n",
       "1                        0                         0                  0  \n",
       "2                        0                         0                  0  \n",
       "3                        0                         0                  0  \n",
       "4                        0                         0                  0  \n",
       "5                        0                         0                  0  \n",
       "6                        0                         0                  0  \n",
       "7                        0                         0                  0  \n",
       "8                        0                         1                  0  \n",
       "9                        0                         0                  0  \n",
       "10                       0                         0                  0  \n",
       "11                       0                         0                  0  \n",
       "12                       0                         0                  0  \n",
       "13                       0                         0                  0  \n",
       "14                       0                         1                  0  \n",
       "15                       0                         0                  0  \n",
       "16                       0                         0                  0  \n",
       "17                       0                         0                  0  \n",
       "18                       0                         0                  0  \n",
       "19                       0                         0                  0  \n",
       "20                       0                         0                  0  \n",
       "21                       0                         0                  0  \n",
       "22                       0                         0                  0  \n",
       "23                       0                         1                  0  \n",
       "24                       0                         0                  0  \n",
       "25                       0                         1                  0  \n",
       "26                       0                         0                  0  \n",
       "27                       0                         0                  0  \n",
       "28                       0                         1                  0  \n",
       "29                       0                         1                  0  \n",
       "30                       0                         0                  0  "
      ]
     },
     "execution_count": 4,
     "metadata": {},
     "output_type": "execute_result"
    }
   ],
   "source": [
    "# Ici on transforme notre data sous forme d'une table binaire avec les id des tarnsactions en lignes et les produits en colonnes\n",
    "df = pd.crosstab(dataset.ID, dataset.Product)\n",
    "df.iloc[:30,:7]"
   ]
  },
  {
   "cell_type": "code",
   "execution_count": 5,
   "id": "5d272bed",
   "metadata": {},
   "outputs": [
    {
     "data": {
      "text/plain": [
       "(1360, 303)"
      ]
     },
     "execution_count": 5,
     "metadata": {},
     "output_type": "execute_result"
    }
   ],
   "source": [
    "df.shape"
   ]
  },
  {
   "cell_type": "code",
   "execution_count": 6,
   "id": "009cc9d0",
   "metadata": {},
   "outputs": [
    {
     "name": "stdout",
     "output_type": "stream",
     "text": [
      "Index(['100_Watt_Lightbulb', '2pct_Milk', '40_Watt_Lightbulb',\n",
      "       '60_Watt_Lightbulb', '75_Watt_Lightbulb', '98pct_Fat_Free_Hamburger',\n",
      "       'AA_Cell_Batteries', 'Apple_Cinnamon_Waffles', 'Apple_Drink',\n",
      "       'Apple_Fruit_Roll',\n",
      "       ...\n",
      "       'White_Bread', 'White_Wine', 'White_Zinfandel_Wine', 'Whole_Corn',\n",
      "       'Whole_Green_Beans', 'Whole_Milk', 'Window_Cleaner', 'Wood_Polish',\n",
      "       'flav_Fruit_Bars', 'flav_Ice'],\n",
      "      dtype='object', name='Product', length=303)\n"
     ]
    }
   ],
   "source": [
    "# Affichage des colonnes\n",
    "print(df.columns)"
   ]
  },
  {
   "cell_type": "code",
   "execution_count": 8,
   "id": "7d02ae09",
   "metadata": {},
   "outputs": [],
   "source": [
    "# Importation de la fonction apriori\n",
    "from mlxtend.frequent_patterns import apriori"
   ]
  },
  {
   "cell_type": "code",
   "execution_count": 9,
   "id": "180ce862",
   "metadata": {},
   "outputs": [],
   "source": [
    "# itemsets_frequents\n",
    "freq_itemsets = apriori(df, min_support=0.025, max_len=4, use_colnames=True)"
   ]
  },
  {
   "cell_type": "code",
   "execution_count": 10,
   "id": "d95847c1",
   "metadata": {},
   "outputs": [
    {
     "data": {
      "text/plain": [
       "pandas.core.frame.DataFrame"
      ]
     },
     "execution_count": 10,
     "metadata": {},
     "output_type": "execute_result"
    }
   ],
   "source": [
    "type(freq_itemsets)"
   ]
  },
  {
   "cell_type": "code",
   "execution_count": 13,
   "id": "f13c3259",
   "metadata": {},
   "outputs": [
    {
     "data": {
      "text/plain": [
       "Index(['support', 'itemsets'], dtype='object')"
      ]
     },
     "execution_count": 13,
     "metadata": {},
     "output_type": "execute_result"
    }
   ],
   "source": [
    "freq_itemsets.columns"
   ]
  },
  {
   "cell_type": "code",
   "execution_count": 14,
   "id": "0c2b4cb1",
   "metadata": {},
   "outputs": [
    {
     "data": {
      "text/plain": [
       "(603, 2)"
      ]
     },
     "execution_count": 14,
     "metadata": {},
     "output_type": "execute_result"
    }
   ],
   "source": [
    "freq_itemsets.shape"
   ]
  },
  {
   "cell_type": "code",
   "execution_count": 15,
   "id": "db8b4612",
   "metadata": {},
   "outputs": [
    {
     "data": {
      "text/html": [
       "<div>\n",
       "<style scoped>\n",
       "    .dataframe tbody tr th:only-of-type {\n",
       "        vertical-align: middle;\n",
       "    }\n",
       "\n",
       "    .dataframe tbody tr th {\n",
       "        vertical-align: top;\n",
       "    }\n",
       "\n",
       "    .dataframe thead th {\n",
       "        text-align: right;\n",
       "    }\n",
       "</style>\n",
       "<table border=\"1\" class=\"dataframe\">\n",
       "  <thead>\n",
       "    <tr style=\"text-align: right;\">\n",
       "      <th></th>\n",
       "      <th>support</th>\n",
       "      <th>itemsets</th>\n",
       "    </tr>\n",
       "  </thead>\n",
       "  <tbody>\n",
       "    <tr>\n",
       "      <th>0</th>\n",
       "      <td>0.030147</td>\n",
       "      <td>(100_Watt_Lightbulb)</td>\n",
       "    </tr>\n",
       "    <tr>\n",
       "      <th>1</th>\n",
       "      <td>0.109559</td>\n",
       "      <td>(2pct_Milk)</td>\n",
       "    </tr>\n",
       "    <tr>\n",
       "      <th>2</th>\n",
       "      <td>0.037500</td>\n",
       "      <td>(60_Watt_Lightbulb)</td>\n",
       "    </tr>\n",
       "    <tr>\n",
       "      <th>3</th>\n",
       "      <td>0.031618</td>\n",
       "      <td>(75_Watt_Lightbulb)</td>\n",
       "    </tr>\n",
       "    <tr>\n",
       "      <th>4</th>\n",
       "      <td>0.093382</td>\n",
       "      <td>(98pct_Fat_Free_Hamburger)</td>\n",
       "    </tr>\n",
       "    <tr>\n",
       "      <th>5</th>\n",
       "      <td>0.031618</td>\n",
       "      <td>(AA_Cell_Batteries)</td>\n",
       "    </tr>\n",
       "    <tr>\n",
       "      <th>6</th>\n",
       "      <td>0.025735</td>\n",
       "      <td>(Apple_Cinnamon_Waffles)</td>\n",
       "    </tr>\n",
       "    <tr>\n",
       "      <th>7</th>\n",
       "      <td>0.026471</td>\n",
       "      <td>(Apple_Drink)</td>\n",
       "    </tr>\n",
       "    <tr>\n",
       "      <th>8</th>\n",
       "      <td>0.031618</td>\n",
       "      <td>(Apple_Fruit_Roll)</td>\n",
       "    </tr>\n",
       "    <tr>\n",
       "      <th>9</th>\n",
       "      <td>0.032353</td>\n",
       "      <td>(Apple_Jam)</td>\n",
       "    </tr>\n",
       "  </tbody>\n",
       "</table>\n",
       "</div>"
      ],
      "text/plain": [
       "    support                    itemsets\n",
       "0  0.030147        (100_Watt_Lightbulb)\n",
       "1  0.109559                 (2pct_Milk)\n",
       "2  0.037500         (60_Watt_Lightbulb)\n",
       "3  0.031618         (75_Watt_Lightbulb)\n",
       "4  0.093382  (98pct_Fat_Free_Hamburger)\n",
       "5  0.031618         (AA_Cell_Batteries)\n",
       "6  0.025735    (Apple_Cinnamon_Waffles)\n",
       "7  0.026471               (Apple_Drink)\n",
       "8  0.031618          (Apple_Fruit_Roll)\n",
       "9  0.032353                 (Apple_Jam)"
      ]
     },
     "execution_count": 15,
     "metadata": {},
     "output_type": "execute_result"
    }
   ],
   "source": [
    "freq_itemsets.head(10)"
   ]
  },
  {
   "cell_type": "code",
   "execution_count": 17,
   "id": "b1d00ced",
   "metadata": {},
   "outputs": [
    {
     "data": {
      "text/plain": [
       "pandas.core.series.Series"
      ]
     },
     "execution_count": 17,
     "metadata": {},
     "output_type": "execute_result"
    }
   ],
   "source": [
    "type(freq_itemsets.itemsets)"
   ]
  },
  {
   "cell_type": "code",
   "execution_count": 18,
   "id": "a9fcd82f",
   "metadata": {},
   "outputs": [
    {
     "name": "stdout",
     "output_type": "stream",
     "text": [
      "frozenset({'100_Watt_Lightbulb'})\n"
     ]
    }
   ],
   "source": [
    "#accès indexé au premier élément\n",
    "print(freq_itemsets.itemsets[0])"
   ]
  },
  {
   "cell_type": "markdown",
   "id": "4a07509c",
   "metadata": {},
   "source": [
    "Un itemset correspond à un objet frozenset de Python, un type ensemble (set) qui n’est pas\n",
    "modifiable (on dit non-mutable). Plusieurs solutions s‘offrent à nous pour la recherche d’itemsets\n",
    "répondant à des conditions de présence d’items."
   ]
  },
  {
   "cell_type": "markdown",
   "id": "032794a6",
   "metadata": {},
   "source": [
    "## Solution 1 : Utilisation de la méthode apply() de pandas.series"
   ]
  },
  {
   "cell_type": "code",
   "execution_count": 20,
   "id": "940158ea",
   "metadata": {},
   "outputs": [],
   "source": [
    "#fonction de test d'inclusion : \n",
    "def is_inclus(x,items):\n",
    " return items.issubset(x)"
   ]
  },
  {
   "cell_type": "code",
   "execution_count": 21,
   "id": "6a2ad83c",
   "metadata": {},
   "outputs": [
    {
     "name": "stdout",
     "output_type": "stream",
     "text": [
      "(array([ 13, 208, 249, 272, 273, 274, 275, 276, 277, 278, 279, 280, 281,\n",
      "       282, 283, 284, 285, 286, 509, 510, 511, 552, 553, 554, 555, 556],\n",
      "      dtype=int64),)\n"
     ]
    }
   ],
   "source": [
    "#recherche des index des itemsets correspondant à une condition\n",
    "import numpy as np\n",
    "id = np.where(freq_itemsets.itemsets.apply(is_inclus,items={'Aspirin'}))\n",
    "print(id)"
   ]
  },
  {
   "cell_type": "code",
   "execution_count": 22,
   "id": "2bcba944",
   "metadata": {},
   "outputs": [
    {
     "name": "stdout",
     "output_type": "stream",
     "text": [
      "      support                              itemsets\n",
      "13   0.066912                             (Aspirin)\n",
      "208  0.034559                  (Aspirin, 2pct_Milk)\n",
      "249  0.027941   (Aspirin, 98pct_Fat_Free_Hamburger)\n",
      "272  0.027206                       (Aspirin, Cola)\n",
      "273  0.025735              (Aspirin, Domestic_Beer)\n",
      "274  0.038235                       (Eggs, Aspirin)\n",
      "275  0.027206                   (Hot_Dogs, Aspirin)\n",
      "276  0.027206                     (Onions, Aspirin)\n",
      "277  0.027206   (Pepperoni_Pizza_-_Frozen, Aspirin)\n",
      "278  0.025000               (Popcorn_Salt, Aspirin)\n",
      "279  0.036029               (Aspirin, Potato_Chips)\n",
      "280  0.030147                   (Potatoes, Aspirin)\n",
      "281  0.030147               (Sweet_Relish, Aspirin)\n",
      "282  0.028676               (Toilet_Paper, Aspirin)\n",
      "283  0.025000                   (Tomatoes, Aspirin)\n",
      "284  0.030882                 (Aspirin, Toothpaste)\n",
      "285  0.025000                (Aspirin, Wheat_Bread)\n",
      "286  0.041912                (White_Bread, Aspirin)\n",
      "509  0.025735            (Eggs, Aspirin, 2pct_Milk)\n",
      "510  0.025000    (Potato_Chips, Aspirin, 2pct_Milk)\n",
      "511  0.027206     (White_Bread, Aspirin, 2pct_Milk)\n",
      "552  0.025000         (Eggs, Aspirin, Potato_Chips)\n",
      "553  0.029412          (Eggs, White_Bread, Aspirin)\n",
      "554  0.027206  (White_Bread, Aspirin, Potato_Chips)\n",
      "555  0.025000      (Potatoes, White_Bread, Aspirin)\n",
      "556  0.025735    (White_Bread, Aspirin, Toothpaste)\n"
     ]
    }
   ],
   "source": [
    "#affichage des itemsets corresp.\n",
    "print(freq_itemsets.loc[id])"
   ]
  },
  {
   "cell_type": "markdown",
   "id": "2d9cd3f6",
   "metadata": {},
   "source": [
    "Pour les impatients, nous pouvons définir à la volée la fonction de comparaison lors de l’appel de\n",
    "la méthode apply() de Series via le mécanisme des fonctions anonymes lambda de Python."
   ]
  },
  {
   "cell_type": "code",
   "execution_count": 24,
   "id": "f54c2adf",
   "metadata": {},
   "outputs": [
    {
     "data": {
      "text/plain": [
       "(array([ 13, 208, 249, 272, 273, 274, 275, 276, 277, 278, 279, 280, 281,\n",
       "        282, 283, 284, 285, 286, 509, 510, 511, 552, 553, 554, 555, 556],\n",
       "       dtype=int64),)"
      ]
     },
     "execution_count": 24,
     "metadata": {},
     "output_type": "execute_result"
    }
   ],
   "source": [
    "#passer par une fonction lambda si on est préssé\n",
    "np.where(freq_itemsets.itemsets.apply(lambda x,ensemble:ensemble.issubset(x),ensemble={'Aspirin'}))"
   ]
  },
  {
   "cell_type": "markdown",
   "id": "20f8f893",
   "metadata": {},
   "source": [
    "## Solution 2 : Utilisation des opérateurs de comparaison de pandas.Series"
   ]
  },
  {
   "cell_type": "markdown",
   "id": "9c256435",
   "metadata": {},
   "source": [
    "On va utiliser l'une des fonctions de comparaison vectorisées (Binary operators functions) :"
   ]
  },
  {
   "cell_type": "code",
   "execution_count": 25,
   "id": "124ca70f",
   "metadata": {},
   "outputs": [
    {
     "name": "stdout",
     "output_type": "stream",
     "text": [
      "      support                              itemsets\n",
      "13   0.066912                             (Aspirin)\n",
      "208  0.034559                  (Aspirin, 2pct_Milk)\n",
      "249  0.027941   (Aspirin, 98pct_Fat_Free_Hamburger)\n",
      "272  0.027206                       (Aspirin, Cola)\n",
      "273  0.025735              (Aspirin, Domestic_Beer)\n",
      "274  0.038235                       (Eggs, Aspirin)\n",
      "275  0.027206                   (Hot_Dogs, Aspirin)\n",
      "276  0.027206                     (Onions, Aspirin)\n",
      "277  0.027206   (Pepperoni_Pizza_-_Frozen, Aspirin)\n",
      "278  0.025000               (Popcorn_Salt, Aspirin)\n",
      "279  0.036029               (Aspirin, Potato_Chips)\n",
      "280  0.030147                   (Potatoes, Aspirin)\n",
      "281  0.030147               (Sweet_Relish, Aspirin)\n",
      "282  0.028676               (Toilet_Paper, Aspirin)\n",
      "283  0.025000                   (Tomatoes, Aspirin)\n",
      "284  0.030882                 (Aspirin, Toothpaste)\n",
      "285  0.025000                (Aspirin, Wheat_Bread)\n",
      "286  0.041912                (White_Bread, Aspirin)\n",
      "509  0.025735            (Eggs, Aspirin, 2pct_Milk)\n",
      "510  0.025000    (Potato_Chips, Aspirin, 2pct_Milk)\n",
      "511  0.027206     (White_Bread, Aspirin, 2pct_Milk)\n",
      "552  0.025000         (Eggs, Aspirin, Potato_Chips)\n",
      "553  0.029412          (Eggs, White_Bread, Aspirin)\n",
      "554  0.027206  (White_Bread, Aspirin, Potato_Chips)\n",
      "555  0.025000      (Potatoes, White_Bread, Aspirin)\n",
      "556  0.025735    (White_Bread, Aspirin, Toothpaste)\n"
     ]
    }
   ],
   "source": [
    "#itemsets contenant Aspirin - passer par les méthodes natives de Series\n",
    "print(freq_itemsets[freq_itemsets['itemsets'].ge({'Aspirin'})])"
   ]
  },
  {
   "cell_type": "code",
   "execution_count": 26,
   "id": "dac66297",
   "metadata": {},
   "outputs": [
    {
     "name": "stdout",
     "output_type": "stream",
     "text": [
      "     support   itemsets\n",
      "13  0.066912  (Aspirin)\n"
     ]
    }
   ],
   "source": [
    "#itemsets avec Aspirin\n",
    "print(freq_itemsets[freq_itemsets['itemsets'].eq({'Aspirin'})])"
   ]
  },
  {
   "cell_type": "code",
   "execution_count": 27,
   "id": "faf7224d",
   "metadata": {},
   "outputs": [
    {
     "name": "stdout",
     "output_type": "stream",
     "text": [
      "      support                       itemsets\n",
      "274  0.038235                (Eggs, Aspirin)\n",
      "509  0.025735     (Eggs, Aspirin, 2pct_Milk)\n",
      "552  0.025000  (Eggs, Aspirin, Potato_Chips)\n",
      "553  0.029412   (Eggs, White_Bread, Aspirin)\n"
     ]
    }
   ],
   "source": [
    "#itemsets contenant Aspirin et Eggs\n",
    "print(freq_itemsets[freq_itemsets['itemsets'].ge({'Aspirin','Eggs'})])"
   ]
  },
  {
   "cell_type": "code",
   "execution_count": 28,
   "id": "2ce6a122",
   "metadata": {},
   "outputs": [
    {
     "name": "stdout",
     "output_type": "stream",
     "text": [
      "      support                       itemsets\n",
      "274  0.038235                (Eggs, Aspirin)\n",
      "509  0.025735     (Eggs, Aspirin, 2pct_Milk)\n",
      "552  0.025000  (Eggs, Aspirin, Potato_Chips)\n",
      "553  0.029412   (Eggs, White_Bread, Aspirin)\n"
     ]
    }
   ],
   "source": [
    "#itemsets contenant Aspirin et Eggs\n",
    "print(freq_itemsets[freq_itemsets['itemsets'].ge({'Eggs','Aspirin'})])"
   ]
  },
  {
   "cell_type": "code",
   "execution_count": null,
   "id": "e81a7766",
   "metadata": {},
   "outputs": [],
   "source": []
  }
 ],
 "metadata": {
  "kernelspec": {
   "display_name": "Python 3 (ipykernel)",
   "language": "python",
   "name": "python3"
  },
  "language_info": {
   "codemirror_mode": {
    "name": "ipython",
    "version": 3
   },
   "file_extension": ".py",
   "mimetype": "text/x-python",
   "name": "python",
   "nbconvert_exporter": "python",
   "pygments_lexer": "ipython3",
   "version": "3.9.7"
  }
 },
 "nbformat": 4,
 "nbformat_minor": 5
}
