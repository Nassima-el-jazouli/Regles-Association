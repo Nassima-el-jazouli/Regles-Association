{
 "cells": [
  {
   "cell_type": "code",
   "execution_count": 1,
   "id": "a2d8077f",
   "metadata": {},
   "outputs": [],
   "source": [
    "# Extraction des données depuis note fichier texte\n",
    "import pandas as pd\n",
    "dataset = pd.read_table(\"market_basket.txt\", delimiter=\"\\t\")"
   ]
  },
  {
   "cell_type": "code",
   "execution_count": 2,
   "id": "674e9d99",
   "metadata": {},
   "outputs": [
    {
     "data": {
      "text/html": [
       "<div>\n",
       "<style scoped>\n",
       "    .dataframe tbody tr th:only-of-type {\n",
       "        vertical-align: middle;\n",
       "    }\n",
       "\n",
       "    .dataframe tbody tr th {\n",
       "        vertical-align: top;\n",
       "    }\n",
       "\n",
       "    .dataframe thead th {\n",
       "        text-align: right;\n",
       "    }\n",
       "</style>\n",
       "<table border=\"1\" class=\"dataframe\">\n",
       "  <thead>\n",
       "    <tr style=\"text-align: right;\">\n",
       "      <th></th>\n",
       "      <th>ID</th>\n",
       "      <th>Product</th>\n",
       "    </tr>\n",
       "  </thead>\n",
       "  <tbody>\n",
       "    <tr>\n",
       "      <th>0</th>\n",
       "      <td>1</td>\n",
       "      <td>Peaches</td>\n",
       "    </tr>\n",
       "    <tr>\n",
       "      <th>1</th>\n",
       "      <td>2</td>\n",
       "      <td>Vegetable_Oil</td>\n",
       "    </tr>\n",
       "    <tr>\n",
       "      <th>2</th>\n",
       "      <td>2</td>\n",
       "      <td>Frozen_Corn</td>\n",
       "    </tr>\n",
       "    <tr>\n",
       "      <th>3</th>\n",
       "      <td>3</td>\n",
       "      <td>Plums</td>\n",
       "    </tr>\n",
       "    <tr>\n",
       "      <th>4</th>\n",
       "      <td>4</td>\n",
       "      <td>Pancake_Mix</td>\n",
       "    </tr>\n",
       "    <tr>\n",
       "      <th>5</th>\n",
       "      <td>5</td>\n",
       "      <td>Cheese</td>\n",
       "    </tr>\n",
       "    <tr>\n",
       "      <th>6</th>\n",
       "      <td>6</td>\n",
       "      <td>Cauliflower</td>\n",
       "    </tr>\n",
       "    <tr>\n",
       "      <th>7</th>\n",
       "      <td>7</td>\n",
       "      <td>2pct_Milk</td>\n",
       "    </tr>\n",
       "    <tr>\n",
       "      <th>8</th>\n",
       "      <td>8</td>\n",
       "      <td>98pct_Fat_Free_Hamburger</td>\n",
       "    </tr>\n",
       "    <tr>\n",
       "      <th>9</th>\n",
       "      <td>8</td>\n",
       "      <td>Potato_Chips</td>\n",
       "    </tr>\n",
       "  </tbody>\n",
       "</table>\n",
       "</div>"
      ],
      "text/plain": [
       "   ID                   Product\n",
       "0   1                   Peaches\n",
       "1   2             Vegetable_Oil\n",
       "2   2               Frozen_Corn\n",
       "3   3                     Plums\n",
       "4   4               Pancake_Mix\n",
       "5   5                    Cheese\n",
       "6   6               Cauliflower\n",
       "7   7                 2pct_Milk\n",
       "8   8  98pct_Fat_Free_Hamburger\n",
       "9   8              Potato_Chips"
      ]
     },
     "execution_count": 2,
     "metadata": {},
     "output_type": "execute_result"
    }
   ],
   "source": [
    "# Affichage des premières dix lignes\n",
    "dataset.head(10)"
   ]
  },
  {
   "cell_type": "code",
   "execution_count": 3,
   "id": "bd4f9274",
   "metadata": {},
   "outputs": [
    {
     "data": {
      "text/plain": [
       "(12935, 2)"
      ]
     },
     "execution_count": 3,
     "metadata": {},
     "output_type": "execute_result"
    }
   ],
   "source": [
    "dataset.shape"
   ]
  },
  {
   "cell_type": "code",
   "execution_count": 4,
   "id": "db10c6aa",
   "metadata": {},
   "outputs": [
    {
     "data": {
      "text/html": [
       "<div>\n",
       "<style scoped>\n",
       "    .dataframe tbody tr th:only-of-type {\n",
       "        vertical-align: middle;\n",
       "    }\n",
       "\n",
       "    .dataframe tbody tr th {\n",
       "        vertical-align: top;\n",
       "    }\n",
       "\n",
       "    .dataframe thead th {\n",
       "        text-align: right;\n",
       "    }\n",
       "</style>\n",
       "<table border=\"1\" class=\"dataframe\">\n",
       "  <thead>\n",
       "    <tr style=\"text-align: right;\">\n",
       "      <th>Product</th>\n",
       "      <th>100_Watt_Lightbulb</th>\n",
       "      <th>2pct_Milk</th>\n",
       "      <th>40_Watt_Lightbulb</th>\n",
       "      <th>60_Watt_Lightbulb</th>\n",
       "      <th>75_Watt_Lightbulb</th>\n",
       "      <th>98pct_Fat_Free_Hamburger</th>\n",
       "      <th>AA_Cell_Batteries</th>\n",
       "    </tr>\n",
       "    <tr>\n",
       "      <th>ID</th>\n",
       "      <th></th>\n",
       "      <th></th>\n",
       "      <th></th>\n",
       "      <th></th>\n",
       "      <th></th>\n",
       "      <th></th>\n",
       "      <th></th>\n",
       "    </tr>\n",
       "  </thead>\n",
       "  <tbody>\n",
       "    <tr>\n",
       "      <th>1</th>\n",
       "      <td>0</td>\n",
       "      <td>0</td>\n",
       "      <td>0</td>\n",
       "      <td>0</td>\n",
       "      <td>0</td>\n",
       "      <td>0</td>\n",
       "      <td>0</td>\n",
       "    </tr>\n",
       "    <tr>\n",
       "      <th>2</th>\n",
       "      <td>0</td>\n",
       "      <td>0</td>\n",
       "      <td>0</td>\n",
       "      <td>0</td>\n",
       "      <td>0</td>\n",
       "      <td>0</td>\n",
       "      <td>0</td>\n",
       "    </tr>\n",
       "    <tr>\n",
       "      <th>3</th>\n",
       "      <td>0</td>\n",
       "      <td>0</td>\n",
       "      <td>0</td>\n",
       "      <td>0</td>\n",
       "      <td>0</td>\n",
       "      <td>0</td>\n",
       "      <td>0</td>\n",
       "    </tr>\n",
       "    <tr>\n",
       "      <th>4</th>\n",
       "      <td>0</td>\n",
       "      <td>0</td>\n",
       "      <td>0</td>\n",
       "      <td>0</td>\n",
       "      <td>0</td>\n",
       "      <td>0</td>\n",
       "      <td>0</td>\n",
       "    </tr>\n",
       "    <tr>\n",
       "      <th>5</th>\n",
       "      <td>0</td>\n",
       "      <td>0</td>\n",
       "      <td>0</td>\n",
       "      <td>0</td>\n",
       "      <td>0</td>\n",
       "      <td>0</td>\n",
       "      <td>0</td>\n",
       "    </tr>\n",
       "    <tr>\n",
       "      <th>6</th>\n",
       "      <td>0</td>\n",
       "      <td>0</td>\n",
       "      <td>0</td>\n",
       "      <td>0</td>\n",
       "      <td>0</td>\n",
       "      <td>0</td>\n",
       "      <td>0</td>\n",
       "    </tr>\n",
       "    <tr>\n",
       "      <th>7</th>\n",
       "      <td>0</td>\n",
       "      <td>1</td>\n",
       "      <td>0</td>\n",
       "      <td>0</td>\n",
       "      <td>0</td>\n",
       "      <td>0</td>\n",
       "      <td>0</td>\n",
       "    </tr>\n",
       "    <tr>\n",
       "      <th>8</th>\n",
       "      <td>0</td>\n",
       "      <td>0</td>\n",
       "      <td>0</td>\n",
       "      <td>0</td>\n",
       "      <td>0</td>\n",
       "      <td>1</td>\n",
       "      <td>0</td>\n",
       "    </tr>\n",
       "    <tr>\n",
       "      <th>9</th>\n",
       "      <td>0</td>\n",
       "      <td>0</td>\n",
       "      <td>0</td>\n",
       "      <td>0</td>\n",
       "      <td>0</td>\n",
       "      <td>0</td>\n",
       "      <td>0</td>\n",
       "    </tr>\n",
       "    <tr>\n",
       "      <th>10</th>\n",
       "      <td>0</td>\n",
       "      <td>0</td>\n",
       "      <td>0</td>\n",
       "      <td>0</td>\n",
       "      <td>0</td>\n",
       "      <td>0</td>\n",
       "      <td>0</td>\n",
       "    </tr>\n",
       "    <tr>\n",
       "      <th>11</th>\n",
       "      <td>0</td>\n",
       "      <td>0</td>\n",
       "      <td>0</td>\n",
       "      <td>0</td>\n",
       "      <td>0</td>\n",
       "      <td>0</td>\n",
       "      <td>0</td>\n",
       "    </tr>\n",
       "    <tr>\n",
       "      <th>12</th>\n",
       "      <td>0</td>\n",
       "      <td>0</td>\n",
       "      <td>0</td>\n",
       "      <td>0</td>\n",
       "      <td>0</td>\n",
       "      <td>0</td>\n",
       "      <td>0</td>\n",
       "    </tr>\n",
       "    <tr>\n",
       "      <th>13</th>\n",
       "      <td>0</td>\n",
       "      <td>0</td>\n",
       "      <td>0</td>\n",
       "      <td>0</td>\n",
       "      <td>0</td>\n",
       "      <td>0</td>\n",
       "      <td>0</td>\n",
       "    </tr>\n",
       "    <tr>\n",
       "      <th>14</th>\n",
       "      <td>0</td>\n",
       "      <td>0</td>\n",
       "      <td>0</td>\n",
       "      <td>0</td>\n",
       "      <td>0</td>\n",
       "      <td>1</td>\n",
       "      <td>0</td>\n",
       "    </tr>\n",
       "    <tr>\n",
       "      <th>15</th>\n",
       "      <td>0</td>\n",
       "      <td>0</td>\n",
       "      <td>0</td>\n",
       "      <td>0</td>\n",
       "      <td>0</td>\n",
       "      <td>0</td>\n",
       "      <td>0</td>\n",
       "    </tr>\n",
       "    <tr>\n",
       "      <th>16</th>\n",
       "      <td>0</td>\n",
       "      <td>0</td>\n",
       "      <td>0</td>\n",
       "      <td>0</td>\n",
       "      <td>0</td>\n",
       "      <td>0</td>\n",
       "      <td>0</td>\n",
       "    </tr>\n",
       "    <tr>\n",
       "      <th>17</th>\n",
       "      <td>0</td>\n",
       "      <td>0</td>\n",
       "      <td>0</td>\n",
       "      <td>0</td>\n",
       "      <td>0</td>\n",
       "      <td>0</td>\n",
       "      <td>0</td>\n",
       "    </tr>\n",
       "    <tr>\n",
       "      <th>18</th>\n",
       "      <td>0</td>\n",
       "      <td>0</td>\n",
       "      <td>0</td>\n",
       "      <td>0</td>\n",
       "      <td>0</td>\n",
       "      <td>0</td>\n",
       "      <td>0</td>\n",
       "    </tr>\n",
       "    <tr>\n",
       "      <th>19</th>\n",
       "      <td>0</td>\n",
       "      <td>0</td>\n",
       "      <td>0</td>\n",
       "      <td>0</td>\n",
       "      <td>0</td>\n",
       "      <td>0</td>\n",
       "      <td>0</td>\n",
       "    </tr>\n",
       "    <tr>\n",
       "      <th>20</th>\n",
       "      <td>0</td>\n",
       "      <td>0</td>\n",
       "      <td>0</td>\n",
       "      <td>0</td>\n",
       "      <td>0</td>\n",
       "      <td>0</td>\n",
       "      <td>0</td>\n",
       "    </tr>\n",
       "    <tr>\n",
       "      <th>21</th>\n",
       "      <td>0</td>\n",
       "      <td>0</td>\n",
       "      <td>0</td>\n",
       "      <td>0</td>\n",
       "      <td>0</td>\n",
       "      <td>0</td>\n",
       "      <td>0</td>\n",
       "    </tr>\n",
       "    <tr>\n",
       "      <th>22</th>\n",
       "      <td>0</td>\n",
       "      <td>0</td>\n",
       "      <td>0</td>\n",
       "      <td>0</td>\n",
       "      <td>0</td>\n",
       "      <td>0</td>\n",
       "      <td>0</td>\n",
       "    </tr>\n",
       "    <tr>\n",
       "      <th>23</th>\n",
       "      <td>0</td>\n",
       "      <td>0</td>\n",
       "      <td>0</td>\n",
       "      <td>0</td>\n",
       "      <td>0</td>\n",
       "      <td>1</td>\n",
       "      <td>0</td>\n",
       "    </tr>\n",
       "    <tr>\n",
       "      <th>24</th>\n",
       "      <td>0</td>\n",
       "      <td>0</td>\n",
       "      <td>0</td>\n",
       "      <td>0</td>\n",
       "      <td>0</td>\n",
       "      <td>0</td>\n",
       "      <td>0</td>\n",
       "    </tr>\n",
       "    <tr>\n",
       "      <th>25</th>\n",
       "      <td>0</td>\n",
       "      <td>1</td>\n",
       "      <td>0</td>\n",
       "      <td>0</td>\n",
       "      <td>0</td>\n",
       "      <td>1</td>\n",
       "      <td>0</td>\n",
       "    </tr>\n",
       "    <tr>\n",
       "      <th>26</th>\n",
       "      <td>1</td>\n",
       "      <td>0</td>\n",
       "      <td>0</td>\n",
       "      <td>0</td>\n",
       "      <td>0</td>\n",
       "      <td>0</td>\n",
       "      <td>0</td>\n",
       "    </tr>\n",
       "    <tr>\n",
       "      <th>27</th>\n",
       "      <td>0</td>\n",
       "      <td>0</td>\n",
       "      <td>0</td>\n",
       "      <td>0</td>\n",
       "      <td>0</td>\n",
       "      <td>0</td>\n",
       "      <td>0</td>\n",
       "    </tr>\n",
       "    <tr>\n",
       "      <th>28</th>\n",
       "      <td>0</td>\n",
       "      <td>1</td>\n",
       "      <td>0</td>\n",
       "      <td>1</td>\n",
       "      <td>0</td>\n",
       "      <td>1</td>\n",
       "      <td>0</td>\n",
       "    </tr>\n",
       "    <tr>\n",
       "      <th>29</th>\n",
       "      <td>0</td>\n",
       "      <td>1</td>\n",
       "      <td>0</td>\n",
       "      <td>0</td>\n",
       "      <td>0</td>\n",
       "      <td>1</td>\n",
       "      <td>0</td>\n",
       "    </tr>\n",
       "    <tr>\n",
       "      <th>30</th>\n",
       "      <td>0</td>\n",
       "      <td>0</td>\n",
       "      <td>0</td>\n",
       "      <td>0</td>\n",
       "      <td>0</td>\n",
       "      <td>0</td>\n",
       "      <td>0</td>\n",
       "    </tr>\n",
       "  </tbody>\n",
       "</table>\n",
       "</div>"
      ],
      "text/plain": [
       "Product  100_Watt_Lightbulb  2pct_Milk  40_Watt_Lightbulb  60_Watt_Lightbulb  \\\n",
       "ID                                                                             \n",
       "1                         0          0                  0                  0   \n",
       "2                         0          0                  0                  0   \n",
       "3                         0          0                  0                  0   \n",
       "4                         0          0                  0                  0   \n",
       "5                         0          0                  0                  0   \n",
       "6                         0          0                  0                  0   \n",
       "7                         0          1                  0                  0   \n",
       "8                         0          0                  0                  0   \n",
       "9                         0          0                  0                  0   \n",
       "10                        0          0                  0                  0   \n",
       "11                        0          0                  0                  0   \n",
       "12                        0          0                  0                  0   \n",
       "13                        0          0                  0                  0   \n",
       "14                        0          0                  0                  0   \n",
       "15                        0          0                  0                  0   \n",
       "16                        0          0                  0                  0   \n",
       "17                        0          0                  0                  0   \n",
       "18                        0          0                  0                  0   \n",
       "19                        0          0                  0                  0   \n",
       "20                        0          0                  0                  0   \n",
       "21                        0          0                  0                  0   \n",
       "22                        0          0                  0                  0   \n",
       "23                        0          0                  0                  0   \n",
       "24                        0          0                  0                  0   \n",
       "25                        0          1                  0                  0   \n",
       "26                        1          0                  0                  0   \n",
       "27                        0          0                  0                  0   \n",
       "28                        0          1                  0                  1   \n",
       "29                        0          1                  0                  0   \n",
       "30                        0          0                  0                  0   \n",
       "\n",
       "Product  75_Watt_Lightbulb  98pct_Fat_Free_Hamburger  AA_Cell_Batteries  \n",
       "ID                                                                       \n",
       "1                        0                         0                  0  \n",
       "2                        0                         0                  0  \n",
       "3                        0                         0                  0  \n",
       "4                        0                         0                  0  \n",
       "5                        0                         0                  0  \n",
       "6                        0                         0                  0  \n",
       "7                        0                         0                  0  \n",
       "8                        0                         1                  0  \n",
       "9                        0                         0                  0  \n",
       "10                       0                         0                  0  \n",
       "11                       0                         0                  0  \n",
       "12                       0                         0                  0  \n",
       "13                       0                         0                  0  \n",
       "14                       0                         1                  0  \n",
       "15                       0                         0                  0  \n",
       "16                       0                         0                  0  \n",
       "17                       0                         0                  0  \n",
       "18                       0                         0                  0  \n",
       "19                       0                         0                  0  \n",
       "20                       0                         0                  0  \n",
       "21                       0                         0                  0  \n",
       "22                       0                         0                  0  \n",
       "23                       0                         1                  0  \n",
       "24                       0                         0                  0  \n",
       "25                       0                         1                  0  \n",
       "26                       0                         0                  0  \n",
       "27                       0                         0                  0  \n",
       "28                       0                         1                  0  \n",
       "29                       0                         1                  0  \n",
       "30                       0                         0                  0  "
      ]
     },
     "execution_count": 4,
     "metadata": {},
     "output_type": "execute_result"
    }
   ],
   "source": [
    "# Ici on transforme notre data sous forme d'une table binaire avec les id des tarnsactions en lignes et les produits en colonnes\n",
    "df = pd.crosstab(dataset.ID, dataset.Product)\n",
    "df.iloc[:30,:7]"
   ]
  },
  {
   "cell_type": "code",
   "execution_count": 5,
   "id": "7396248f",
   "metadata": {},
   "outputs": [
    {
     "data": {
      "text/plain": [
       "(1360, 303)"
      ]
     },
     "execution_count": 5,
     "metadata": {},
     "output_type": "execute_result"
    }
   ],
   "source": [
    "df.shape"
   ]
  },
  {
   "cell_type": "code",
   "execution_count": 6,
   "id": "3d88ab0e",
   "metadata": {},
   "outputs": [
    {
     "name": "stdout",
     "output_type": "stream",
     "text": [
      "Index(['100_Watt_Lightbulb', '2pct_Milk', '40_Watt_Lightbulb',\n",
      "       '60_Watt_Lightbulb', '75_Watt_Lightbulb', '98pct_Fat_Free_Hamburger',\n",
      "       'AA_Cell_Batteries', 'Apple_Cinnamon_Waffles', 'Apple_Drink',\n",
      "       'Apple_Fruit_Roll',\n",
      "       ...\n",
      "       'White_Bread', 'White_Wine', 'White_Zinfandel_Wine', 'Whole_Corn',\n",
      "       'Whole_Green_Beans', 'Whole_Milk', 'Window_Cleaner', 'Wood_Polish',\n",
      "       'flav_Fruit_Bars', 'flav_Ice'],\n",
      "      dtype='object', name='Product', length=303)\n"
     ]
    }
   ],
   "source": [
    "# Affichage des colonnes\n",
    "print(df.columns)"
   ]
  },
  {
   "cell_type": "code",
   "execution_count": 7,
   "id": "d8d80813",
   "metadata": {},
   "outputs": [],
   "source": [
    "# Importation de la fonction apriori\n",
    "from mlxtend.frequent_patterns import apriori"
   ]
  },
  {
   "cell_type": "code",
   "execution_count": 8,
   "id": "752d1327",
   "metadata": {},
   "outputs": [],
   "source": [
    "# itemsets_frequents\n",
    "freq_itemsets = apriori(df, min_support=0.025, max_len=4, use_colnames=True)"
   ]
  },
  {
   "cell_type": "code",
   "execution_count": 9,
   "id": "28b76dc4",
   "metadata": {},
   "outputs": [
    {
     "data": {
      "text/plain": [
       "pandas.core.frame.DataFrame"
      ]
     },
     "execution_count": 9,
     "metadata": {},
     "output_type": "execute_result"
    }
   ],
   "source": [
    "type(freq_itemsets)"
   ]
  },
  {
   "cell_type": "code",
   "execution_count": 10,
   "id": "fcf7247a",
   "metadata": {},
   "outputs": [
    {
     "data": {
      "text/plain": [
       "Index(['support', 'itemsets'], dtype='object')"
      ]
     },
     "execution_count": 10,
     "metadata": {},
     "output_type": "execute_result"
    }
   ],
   "source": [
    "freq_itemsets.columns"
   ]
  },
  {
   "cell_type": "code",
   "execution_count": 11,
   "id": "b841e884",
   "metadata": {},
   "outputs": [
    {
     "data": {
      "text/plain": [
       "(603, 2)"
      ]
     },
     "execution_count": 11,
     "metadata": {},
     "output_type": "execute_result"
    }
   ],
   "source": [
    "freq_itemsets.shape"
   ]
  },
  {
   "cell_type": "code",
   "execution_count": 12,
   "id": "e85c87a5",
   "metadata": {},
   "outputs": [
    {
     "data": {
      "text/html": [
       "<div>\n",
       "<style scoped>\n",
       "    .dataframe tbody tr th:only-of-type {\n",
       "        vertical-align: middle;\n",
       "    }\n",
       "\n",
       "    .dataframe tbody tr th {\n",
       "        vertical-align: top;\n",
       "    }\n",
       "\n",
       "    .dataframe thead th {\n",
       "        text-align: right;\n",
       "    }\n",
       "</style>\n",
       "<table border=\"1\" class=\"dataframe\">\n",
       "  <thead>\n",
       "    <tr style=\"text-align: right;\">\n",
       "      <th></th>\n",
       "      <th>support</th>\n",
       "      <th>itemsets</th>\n",
       "    </tr>\n",
       "  </thead>\n",
       "  <tbody>\n",
       "    <tr>\n",
       "      <th>0</th>\n",
       "      <td>0.030147</td>\n",
       "      <td>(100_Watt_Lightbulb)</td>\n",
       "    </tr>\n",
       "    <tr>\n",
       "      <th>1</th>\n",
       "      <td>0.109559</td>\n",
       "      <td>(2pct_Milk)</td>\n",
       "    </tr>\n",
       "    <tr>\n",
       "      <th>2</th>\n",
       "      <td>0.037500</td>\n",
       "      <td>(60_Watt_Lightbulb)</td>\n",
       "    </tr>\n",
       "    <tr>\n",
       "      <th>3</th>\n",
       "      <td>0.031618</td>\n",
       "      <td>(75_Watt_Lightbulb)</td>\n",
       "    </tr>\n",
       "    <tr>\n",
       "      <th>4</th>\n",
       "      <td>0.093382</td>\n",
       "      <td>(98pct_Fat_Free_Hamburger)</td>\n",
       "    </tr>\n",
       "    <tr>\n",
       "      <th>5</th>\n",
       "      <td>0.031618</td>\n",
       "      <td>(AA_Cell_Batteries)</td>\n",
       "    </tr>\n",
       "    <tr>\n",
       "      <th>6</th>\n",
       "      <td>0.025735</td>\n",
       "      <td>(Apple_Cinnamon_Waffles)</td>\n",
       "    </tr>\n",
       "    <tr>\n",
       "      <th>7</th>\n",
       "      <td>0.026471</td>\n",
       "      <td>(Apple_Drink)</td>\n",
       "    </tr>\n",
       "    <tr>\n",
       "      <th>8</th>\n",
       "      <td>0.031618</td>\n",
       "      <td>(Apple_Fruit_Roll)</td>\n",
       "    </tr>\n",
       "    <tr>\n",
       "      <th>9</th>\n",
       "      <td>0.032353</td>\n",
       "      <td>(Apple_Jam)</td>\n",
       "    </tr>\n",
       "  </tbody>\n",
       "</table>\n",
       "</div>"
      ],
      "text/plain": [
       "    support                    itemsets\n",
       "0  0.030147        (100_Watt_Lightbulb)\n",
       "1  0.109559                 (2pct_Milk)\n",
       "2  0.037500         (60_Watt_Lightbulb)\n",
       "3  0.031618         (75_Watt_Lightbulb)\n",
       "4  0.093382  (98pct_Fat_Free_Hamburger)\n",
       "5  0.031618         (AA_Cell_Batteries)\n",
       "6  0.025735    (Apple_Cinnamon_Waffles)\n",
       "7  0.026471               (Apple_Drink)\n",
       "8  0.031618          (Apple_Fruit_Roll)\n",
       "9  0.032353                 (Apple_Jam)"
      ]
     },
     "execution_count": 12,
     "metadata": {},
     "output_type": "execute_result"
    }
   ],
   "source": [
    "freq_itemsets.head(10)"
   ]
  },
  {
   "cell_type": "code",
   "execution_count": 13,
   "id": "55240a08",
   "metadata": {},
   "outputs": [
    {
     "data": {
      "text/plain": [
       "pandas.core.series.Series"
      ]
     },
     "execution_count": 13,
     "metadata": {},
     "output_type": "execute_result"
    }
   ],
   "source": [
    "type(freq_itemsets.itemsets)"
   ]
  },
  {
   "cell_type": "code",
   "execution_count": 14,
   "id": "2abb2939",
   "metadata": {},
   "outputs": [
    {
     "name": "stdout",
     "output_type": "stream",
     "text": [
      "frozenset({'100_Watt_Lightbulb'})\n"
     ]
    }
   ],
   "source": [
    "#accès indexé au premier élément\n",
    "print(freq_itemsets.itemsets[0])"
   ]
  },
  {
   "cell_type": "markdown",
   "id": "bda79b7f",
   "metadata": {},
   "source": [
    "Un itemset correspond à un objet frozenset de Python, un type ensemble (set) qui n’est pas\n",
    "modifiable (on dit non-mutable). Plusieurs solutions s‘offrent à nous pour la recherche d’itemsets\n",
    "répondant à des conditions de présence d’items."
   ]
  },
  {
   "cell_type": "markdown",
   "id": "31ed9d20",
   "metadata": {},
   "source": [
    "## Solution 1 : Utilisation de la méthode apply() de pandas.series"
   ]
  },
  {
   "cell_type": "code",
   "execution_count": 15,
   "id": "9a9b2fb9",
   "metadata": {},
   "outputs": [],
   "source": [
    "#fonction de test d'inclusion : \n",
    "def is_inclus(x,items):\n",
    " return items.issubset(x)"
   ]
  },
  {
   "cell_type": "code",
   "execution_count": 16,
   "id": "6d0cf15a",
   "metadata": {},
   "outputs": [
    {
     "name": "stdout",
     "output_type": "stream",
     "text": [
      "(array([ 13, 208, 249, 272, 273, 274, 275, 276, 277, 278, 279, 280, 281,\n",
      "       282, 283, 284, 285, 286, 509, 510, 511, 552, 553, 554, 555, 556],\n",
      "      dtype=int64),)\n"
     ]
    }
   ],
   "source": [
    "#recherche des index des itemsets correspondant à une condition\n",
    "import numpy as np\n",
    "id = np.where(freq_itemsets.itemsets.apply(is_inclus,items={'Aspirin'}))\n",
    "print(id)"
   ]
  },
  {
   "cell_type": "code",
   "execution_count": 17,
   "id": "7174f6fa",
   "metadata": {},
   "outputs": [
    {
     "name": "stdout",
     "output_type": "stream",
     "text": [
      "      support                              itemsets\n",
      "13   0.066912                             (Aspirin)\n",
      "208  0.034559                  (2pct_Milk, Aspirin)\n",
      "249  0.027941   (98pct_Fat_Free_Hamburger, Aspirin)\n",
      "272  0.027206                       (Cola, Aspirin)\n",
      "273  0.025735              (Aspirin, Domestic_Beer)\n",
      "274  0.038235                       (Eggs, Aspirin)\n",
      "275  0.027206                   (Hot_Dogs, Aspirin)\n",
      "276  0.027206                     (Onions, Aspirin)\n",
      "277  0.027206   (Pepperoni_Pizza_-_Frozen, Aspirin)\n",
      "278  0.025000               (Popcorn_Salt, Aspirin)\n",
      "279  0.036029               (Aspirin, Potato_Chips)\n",
      "280  0.030147                   (Aspirin, Potatoes)\n",
      "281  0.030147               (Aspirin, Sweet_Relish)\n",
      "282  0.028676               (Aspirin, Toilet_Paper)\n",
      "283  0.025000                   (Tomatoes, Aspirin)\n",
      "284  0.030882                 (Toothpaste, Aspirin)\n",
      "285  0.025000                (Aspirin, Wheat_Bread)\n",
      "286  0.041912                (Aspirin, White_Bread)\n",
      "509  0.025735            (Eggs, 2pct_Milk, Aspirin)\n",
      "510  0.025000    (2pct_Milk, Aspirin, Potato_Chips)\n",
      "511  0.027206     (2pct_Milk, Aspirin, White_Bread)\n",
      "552  0.025000         (Eggs, Aspirin, Potato_Chips)\n",
      "553  0.029412          (Eggs, Aspirin, White_Bread)\n",
      "554  0.027206  (Aspirin, Potato_Chips, White_Bread)\n",
      "555  0.025000      (Aspirin, White_Bread, Potatoes)\n",
      "556  0.025735    (Toothpaste, Aspirin, White_Bread)\n"
     ]
    }
   ],
   "source": [
    "#affichage des itemsets corresp.\n",
    "print(freq_itemsets.loc[id])"
   ]
  },
  {
   "cell_type": "markdown",
   "id": "ce3c40e6",
   "metadata": {},
   "source": [
    "Pour les impatients, nous pouvons définir à la volée la fonction de comparaison lors de l’appel de\n",
    "la méthode apply() de Series via le mécanisme des fonctions anonymes lambda de Python."
   ]
  },
  {
   "cell_type": "code",
   "execution_count": 18,
   "id": "c6e9e124",
   "metadata": {},
   "outputs": [
    {
     "data": {
      "text/plain": [
       "(array([ 13, 208, 249, 272, 273, 274, 275, 276, 277, 278, 279, 280, 281,\n",
       "        282, 283, 284, 285, 286, 509, 510, 511, 552, 553, 554, 555, 556],\n",
       "       dtype=int64),)"
      ]
     },
     "execution_count": 18,
     "metadata": {},
     "output_type": "execute_result"
    }
   ],
   "source": [
    "#passer par une fonction lambda si on est préssé\n",
    "np.where(freq_itemsets.itemsets.apply(lambda x,ensemble:ensemble.issubset(x),ensemble={'Aspirin'}))"
   ]
  },
  {
   "cell_type": "markdown",
   "id": "22bf1e57",
   "metadata": {},
   "source": [
    "## Solution 2 : Utilisation des opérateurs de comparaison de pandas.Series"
   ]
  },
  {
   "cell_type": "markdown",
   "id": "26d1ec9f",
   "metadata": {},
   "source": [
    "On va utiliser l'une des fonctions de comparaison vectorisées (Binary operators functions) :"
   ]
  },
  {
   "cell_type": "code",
   "execution_count": 19,
   "id": "42974ef7",
   "metadata": {},
   "outputs": [
    {
     "name": "stdout",
     "output_type": "stream",
     "text": [
      "      support                              itemsets\n",
      "13   0.066912                             (Aspirin)\n",
      "208  0.034559                  (2pct_Milk, Aspirin)\n",
      "249  0.027941   (98pct_Fat_Free_Hamburger, Aspirin)\n",
      "272  0.027206                       (Cola, Aspirin)\n",
      "273  0.025735              (Aspirin, Domestic_Beer)\n",
      "274  0.038235                       (Eggs, Aspirin)\n",
      "275  0.027206                   (Hot_Dogs, Aspirin)\n",
      "276  0.027206                     (Onions, Aspirin)\n",
      "277  0.027206   (Pepperoni_Pizza_-_Frozen, Aspirin)\n",
      "278  0.025000               (Popcorn_Salt, Aspirin)\n",
      "279  0.036029               (Aspirin, Potato_Chips)\n",
      "280  0.030147                   (Aspirin, Potatoes)\n",
      "281  0.030147               (Aspirin, Sweet_Relish)\n",
      "282  0.028676               (Aspirin, Toilet_Paper)\n",
      "283  0.025000                   (Tomatoes, Aspirin)\n",
      "284  0.030882                 (Toothpaste, Aspirin)\n",
      "285  0.025000                (Aspirin, Wheat_Bread)\n",
      "286  0.041912                (Aspirin, White_Bread)\n",
      "509  0.025735            (Eggs, 2pct_Milk, Aspirin)\n",
      "510  0.025000    (2pct_Milk, Aspirin, Potato_Chips)\n",
      "511  0.027206     (2pct_Milk, Aspirin, White_Bread)\n",
      "552  0.025000         (Eggs, Aspirin, Potato_Chips)\n",
      "553  0.029412          (Eggs, Aspirin, White_Bread)\n",
      "554  0.027206  (Aspirin, Potato_Chips, White_Bread)\n",
      "555  0.025000      (Aspirin, White_Bread, Potatoes)\n",
      "556  0.025735    (Toothpaste, Aspirin, White_Bread)\n"
     ]
    }
   ],
   "source": [
    "#itemsets contenant Aspirin - passer par les méthodes natives de Series\n",
    "print(freq_itemsets[freq_itemsets['itemsets'].ge({'Aspirin'})])"
   ]
  },
  {
   "cell_type": "code",
   "execution_count": 20,
   "id": "2e924ccb",
   "metadata": {},
   "outputs": [
    {
     "name": "stdout",
     "output_type": "stream",
     "text": [
      "     support   itemsets\n",
      "13  0.066912  (Aspirin)\n"
     ]
    }
   ],
   "source": [
    "#itemsets avec Aspirin\n",
    "print(freq_itemsets[freq_itemsets['itemsets'].eq({'Aspirin'})])"
   ]
  },
  {
   "cell_type": "code",
   "execution_count": 21,
   "id": "36d14b10",
   "metadata": {},
   "outputs": [
    {
     "name": "stdout",
     "output_type": "stream",
     "text": [
      "      support                       itemsets\n",
      "274  0.038235                (Eggs, Aspirin)\n",
      "509  0.025735     (Eggs, 2pct_Milk, Aspirin)\n",
      "552  0.025000  (Eggs, Aspirin, Potato_Chips)\n",
      "553  0.029412   (Eggs, Aspirin, White_Bread)\n"
     ]
    }
   ],
   "source": [
    "#itemsets contenant Aspirin et Eggs\n",
    "print(freq_itemsets[freq_itemsets['itemsets'].ge({'Aspirin','Eggs'})])"
   ]
  },
  {
   "cell_type": "code",
   "execution_count": 22,
   "id": "000724df",
   "metadata": {},
   "outputs": [
    {
     "name": "stdout",
     "output_type": "stream",
     "text": [
      "      support                       itemsets\n",
      "274  0.038235                (Eggs, Aspirin)\n",
      "509  0.025735     (Eggs, 2pct_Milk, Aspirin)\n",
      "552  0.025000  (Eggs, Aspirin, Potato_Chips)\n",
      "553  0.029412   (Eggs, Aspirin, White_Bread)\n"
     ]
    }
   ],
   "source": [
    "#itemsets contenant Aspirin et Eggs\n",
    "print(freq_itemsets[freq_itemsets['itemsets'].ge({'Eggs','Aspirin'})])"
   ]
  },
  {
   "cell_type": "markdown",
   "id": "ce2a5954",
   "metadata": {},
   "source": [
    "Nous obtenons le bon résultat, de manière autrement plus simple finalement."
   ]
  },
  {
   "cell_type": "markdown",
   "id": "c223df8e",
   "metadata": {},
   "source": [
    "## Extraction et déduction des règles d'association :"
   ]
  },
  {
   "cell_type": "markdown",
   "id": "6c744eac",
   "metadata": {},
   "source": [
    "Après le travail avec la fonction Apriori pour détecter les itemsets fréquents, on passe pour détecter nos règles d'association, à travers la confiance.\n",
    "\n",
    "La confiance doit dépasser la confiance minimale :"
   ]
  },
  {
   "cell_type": "code",
   "execution_count": 23,
   "id": "a1f04ee3",
   "metadata": {},
   "outputs": [],
   "source": [
    "#fonction de calcul des règles\n",
    "from mlxtend.frequent_patterns import association_rules\n",
    "\n",
    "#génération des règles à partir des itemsets fréquents\n",
    "regles = association_rules(freq_itemsets,metric=\"confidence\",min_threshold=0.75)"
   ]
  },
  {
   "cell_type": "code",
   "execution_count": 24,
   "id": "9a1103f3",
   "metadata": {},
   "outputs": [
    {
     "data": {
      "text/plain": [
       "pandas.core.frame.DataFrame"
      ]
     },
     "execution_count": 24,
     "metadata": {},
     "output_type": "execute_result"
    }
   ],
   "source": [
    "#type de l'objet renvoyé\n",
    "type(regles)"
   ]
  },
  {
   "cell_type": "code",
   "execution_count": 25,
   "id": "c8b47177",
   "metadata": {},
   "outputs": [
    {
     "data": {
      "text/plain": [
       "(50, 9)"
      ]
     },
     "execution_count": 25,
     "metadata": {},
     "output_type": "execute_result"
    }
   ],
   "source": [
    "#dimension\n",
    "regles.shape"
   ]
  },
  {
   "cell_type": "code",
   "execution_count": 26,
   "id": "52490a5a",
   "metadata": {},
   "outputs": [
    {
     "data": {
      "text/plain": [
       "Index(['antecedents', 'consequents', 'antecedent support',\n",
       "       'consequent support', 'support', 'confidence', 'lift', 'leverage',\n",
       "       'conviction'],\n",
       "      dtype='object')"
      ]
     },
     "execution_count": 26,
     "metadata": {},
     "output_type": "execute_result"
    }
   ],
   "source": [
    "#liste des colonnes\n",
    "regles.columns"
   ]
  },
  {
   "cell_type": "code",
   "execution_count": 27,
   "id": "b9949da4",
   "metadata": {},
   "outputs": [
    {
     "data": {
      "text/html": [
       "<div>\n",
       "<style scoped>\n",
       "    .dataframe tbody tr th:only-of-type {\n",
       "        vertical-align: middle;\n",
       "    }\n",
       "\n",
       "    .dataframe tbody tr th {\n",
       "        vertical-align: top;\n",
       "    }\n",
       "\n",
       "    .dataframe thead th {\n",
       "        text-align: right;\n",
       "    }\n",
       "</style>\n",
       "<table border=\"1\" class=\"dataframe\">\n",
       "  <thead>\n",
       "    <tr style=\"text-align: right;\">\n",
       "      <th></th>\n",
       "      <th>antecedents</th>\n",
       "      <th>consequents</th>\n",
       "      <th>antecedent support</th>\n",
       "      <th>consequent support</th>\n",
       "      <th>support</th>\n",
       "      <th>confidence</th>\n",
       "      <th>lift</th>\n",
       "      <th>leverage</th>\n",
       "      <th>conviction</th>\n",
       "    </tr>\n",
       "  </thead>\n",
       "  <tbody>\n",
       "    <tr>\n",
       "      <th>0</th>\n",
       "      <td>(2pct_Milk, Aspirin)</td>\n",
       "      <td>(White_Bread)</td>\n",
       "      <td>0.034559</td>\n",
       "      <td>0.119118</td>\n",
       "      <td>0.027206</td>\n",
       "      <td>0.787234</td>\n",
       "      <td>6.608878</td>\n",
       "      <td>0.023089</td>\n",
       "      <td>4.140147</td>\n",
       "    </tr>\n",
       "    <tr>\n",
       "      <th>1</th>\n",
       "      <td>(2pct_Milk, Bananas)</td>\n",
       "      <td>(White_Bread)</td>\n",
       "      <td>0.031618</td>\n",
       "      <td>0.119118</td>\n",
       "      <td>0.025735</td>\n",
       "      <td>0.813953</td>\n",
       "      <td>6.833190</td>\n",
       "      <td>0.021969</td>\n",
       "      <td>4.734743</td>\n",
       "    </tr>\n",
       "    <tr>\n",
       "      <th>2</th>\n",
       "      <td>(Bananas, White_Bread)</td>\n",
       "      <td>(2pct_Milk)</td>\n",
       "      <td>0.032353</td>\n",
       "      <td>0.109559</td>\n",
       "      <td>0.025735</td>\n",
       "      <td>0.795455</td>\n",
       "      <td>7.260525</td>\n",
       "      <td>0.022191</td>\n",
       "      <td>4.353268</td>\n",
       "    </tr>\n",
       "    <tr>\n",
       "      <th>3</th>\n",
       "      <td>(Cola, Wheat_Bread)</td>\n",
       "      <td>(2pct_Milk)</td>\n",
       "      <td>0.032353</td>\n",
       "      <td>0.109559</td>\n",
       "      <td>0.025735</td>\n",
       "      <td>0.795455</td>\n",
       "      <td>7.260525</td>\n",
       "      <td>0.022191</td>\n",
       "      <td>4.353268</td>\n",
       "    </tr>\n",
       "    <tr>\n",
       "      <th>4</th>\n",
       "      <td>(Popcorn_Salt, 2pct_Milk)</td>\n",
       "      <td>(Eggs)</td>\n",
       "      <td>0.033088</td>\n",
       "      <td>0.122794</td>\n",
       "      <td>0.027206</td>\n",
       "      <td>0.822222</td>\n",
       "      <td>6.695941</td>\n",
       "      <td>0.023143</td>\n",
       "      <td>4.934283</td>\n",
       "    </tr>\n",
       "    <tr>\n",
       "      <th>5</th>\n",
       "      <td>(2pct_Milk, Potato_Chips)</td>\n",
       "      <td>(Eggs)</td>\n",
       "      <td>0.044853</td>\n",
       "      <td>0.122794</td>\n",
       "      <td>0.033824</td>\n",
       "      <td>0.754098</td>\n",
       "      <td>6.141160</td>\n",
       "      <td>0.028316</td>\n",
       "      <td>3.567304</td>\n",
       "    </tr>\n",
       "    <tr>\n",
       "      <th>6</th>\n",
       "      <td>(2pct_Milk, Tomatoes)</td>\n",
       "      <td>(Eggs)</td>\n",
       "      <td>0.032353</td>\n",
       "      <td>0.122794</td>\n",
       "      <td>0.025735</td>\n",
       "      <td>0.795455</td>\n",
       "      <td>6.477953</td>\n",
       "      <td>0.021763</td>\n",
       "      <td>4.288562</td>\n",
       "    </tr>\n",
       "  </tbody>\n",
       "</table>\n",
       "</div>"
      ],
      "text/plain": [
       "                 antecedents    consequents  antecedent support  \\\n",
       "0       (2pct_Milk, Aspirin)  (White_Bread)            0.034559   \n",
       "1       (2pct_Milk, Bananas)  (White_Bread)            0.031618   \n",
       "2     (Bananas, White_Bread)    (2pct_Milk)            0.032353   \n",
       "3        (Cola, Wheat_Bread)    (2pct_Milk)            0.032353   \n",
       "4  (Popcorn_Salt, 2pct_Milk)         (Eggs)            0.033088   \n",
       "5  (2pct_Milk, Potato_Chips)         (Eggs)            0.044853   \n",
       "6      (2pct_Milk, Tomatoes)         (Eggs)            0.032353   \n",
       "\n",
       "   consequent support   support  confidence      lift  leverage  conviction  \n",
       "0            0.119118  0.027206    0.787234  6.608878  0.023089    4.140147  \n",
       "1            0.119118  0.025735    0.813953  6.833190  0.021969    4.734743  \n",
       "2            0.109559  0.025735    0.795455  7.260525  0.022191    4.353268  \n",
       "3            0.109559  0.025735    0.795455  7.260525  0.022191    4.353268  \n",
       "4            0.122794  0.027206    0.822222  6.695941  0.023143    4.934283  \n",
       "5            0.122794  0.033824    0.754098  6.141160  0.028316    3.567304  \n",
       "6            0.122794  0.025735    0.795455  6.477953  0.021763    4.288562  "
      ]
     },
     "execution_count": 27,
     "metadata": {},
     "output_type": "execute_result"
    }
   ],
   "source": [
    "#Affichage des 7 \"premières\" règles\n",
    "regles.iloc[:7,:]"
   ]
  },
  {
   "cell_type": "code",
   "execution_count": 28,
   "id": "76fbac04",
   "metadata": {},
   "outputs": [
    {
     "data": {
      "text/plain": [
       "(50, 3)"
      ]
     },
     "execution_count": 28,
     "metadata": {},
     "output_type": "execute_result"
    }
   ],
   "source": [
    "#règles en restrieignant l'affichage à qqs colonnes\n",
    "myRegles = regles.loc[:,['antecedents','consequents','lift']]\n",
    "myRegles.shape"
   ]
  },
  {
   "cell_type": "code",
   "execution_count": 29,
   "id": "464ddb67",
   "metadata": {},
   "outputs": [],
   "source": [
    "#pour afficher toutes les colonnes\n",
    "pd.set_option('display.max_columns',5)\n",
    "pd.set_option('precision',3)"
   ]
  },
  {
   "cell_type": "code",
   "execution_count": 30,
   "id": "821182ed",
   "metadata": {},
   "outputs": [
    {
     "data": {
      "text/html": [
       "<div>\n",
       "<style scoped>\n",
       "    .dataframe tbody tr th:only-of-type {\n",
       "        vertical-align: middle;\n",
       "    }\n",
       "\n",
       "    .dataframe tbody tr th {\n",
       "        vertical-align: top;\n",
       "    }\n",
       "\n",
       "    .dataframe thead th {\n",
       "        text-align: right;\n",
       "    }\n",
       "</style>\n",
       "<table border=\"1\" class=\"dataframe\">\n",
       "  <thead>\n",
       "    <tr style=\"text-align: right;\">\n",
       "      <th></th>\n",
       "      <th>antecedents</th>\n",
       "      <th>consequents</th>\n",
       "      <th>lift</th>\n",
       "    </tr>\n",
       "  </thead>\n",
       "  <tbody>\n",
       "    <tr>\n",
       "      <th>0</th>\n",
       "      <td>(2pct_Milk, Aspirin)</td>\n",
       "      <td>(White_Bread)</td>\n",
       "      <td>6.609</td>\n",
       "    </tr>\n",
       "    <tr>\n",
       "      <th>1</th>\n",
       "      <td>(2pct_Milk, Bananas)</td>\n",
       "      <td>(White_Bread)</td>\n",
       "      <td>6.833</td>\n",
       "    </tr>\n",
       "    <tr>\n",
       "      <th>2</th>\n",
       "      <td>(Bananas, White_Bread)</td>\n",
       "      <td>(2pct_Milk)</td>\n",
       "      <td>7.261</td>\n",
       "    </tr>\n",
       "    <tr>\n",
       "      <th>3</th>\n",
       "      <td>(Cola, Wheat_Bread)</td>\n",
       "      <td>(2pct_Milk)</td>\n",
       "      <td>7.261</td>\n",
       "    </tr>\n",
       "    <tr>\n",
       "      <th>4</th>\n",
       "      <td>(Popcorn_Salt, 2pct_Milk)</td>\n",
       "      <td>(Eggs)</td>\n",
       "      <td>6.696</td>\n",
       "    </tr>\n",
       "  </tbody>\n",
       "</table>\n",
       "</div>"
      ],
      "text/plain": [
       "                 antecedents    consequents   lift\n",
       "0       (2pct_Milk, Aspirin)  (White_Bread)  6.609\n",
       "1       (2pct_Milk, Bananas)  (White_Bread)  6.833\n",
       "2     (Bananas, White_Bread)    (2pct_Milk)  7.261\n",
       "3        (Cola, Wheat_Bread)    (2pct_Milk)  7.261\n",
       "4  (Popcorn_Salt, 2pct_Milk)         (Eggs)  6.696"
      ]
     },
     "execution_count": 30,
     "metadata": {},
     "output_type": "execute_result"
    }
   ],
   "source": [
    "#affichage des 5 premières règles\n",
    "myRegles[:5]"
   ]
  },
  {
   "cell_type": "code",
   "execution_count": 31,
   "id": "fcabb95a",
   "metadata": {},
   "outputs": [
    {
     "data": {
      "text/html": [
       "<div>\n",
       "<style scoped>\n",
       "    .dataframe tbody tr th:only-of-type {\n",
       "        vertical-align: middle;\n",
       "    }\n",
       "\n",
       "    .dataframe tbody tr th {\n",
       "        vertical-align: top;\n",
       "    }\n",
       "\n",
       "    .dataframe thead th {\n",
       "        text-align: right;\n",
       "    }\n",
       "</style>\n",
       "<table border=\"1\" class=\"dataframe\">\n",
       "  <thead>\n",
       "    <tr style=\"text-align: right;\">\n",
       "      <th></th>\n",
       "      <th>antecedents</th>\n",
       "      <th>consequents</th>\n",
       "      <th>lift</th>\n",
       "    </tr>\n",
       "  </thead>\n",
       "  <tbody>\n",
       "    <tr>\n",
       "      <th>2</th>\n",
       "      <td>(Bananas, White_Bread)</td>\n",
       "      <td>(2pct_Milk)</td>\n",
       "      <td>7.261</td>\n",
       "    </tr>\n",
       "    <tr>\n",
       "      <th>3</th>\n",
       "      <td>(Cola, Wheat_Bread)</td>\n",
       "      <td>(2pct_Milk)</td>\n",
       "      <td>7.261</td>\n",
       "    </tr>\n",
       "    <tr>\n",
       "      <th>8</th>\n",
       "      <td>(Onions, Wheat_Bread)</td>\n",
       "      <td>(2pct_Milk)</td>\n",
       "      <td>7.574</td>\n",
       "    </tr>\n",
       "    <tr>\n",
       "      <th>10</th>\n",
       "      <td>(Wheat_Bread, Potatoes)</td>\n",
       "      <td>(2pct_Milk)</td>\n",
       "      <td>7.053</td>\n",
       "    </tr>\n",
       "    <tr>\n",
       "      <th>13</th>\n",
       "      <td>(Toothpaste, Wheat_Bread)</td>\n",
       "      <td>(2pct_Milk)</td>\n",
       "      <td>7.380</td>\n",
       "    </tr>\n",
       "    <tr>\n",
       "      <th>16</th>\n",
       "      <td>(Hamburger_Buns, White_Bread)</td>\n",
       "      <td>(98pct_Fat_Free_Hamburger)</td>\n",
       "      <td>8.202</td>\n",
       "    </tr>\n",
       "    <tr>\n",
       "      <th>17</th>\n",
       "      <td>(98pct_Fat_Free_Hamburger, Wheat_Bread)</td>\n",
       "      <td>(White_Bread)</td>\n",
       "      <td>7.556</td>\n",
       "    </tr>\n",
       "    <tr>\n",
       "      <th>29</th>\n",
       "      <td>(Hot_Dog_Buns, Sweet_Relish)</td>\n",
       "      <td>(Hot_Dogs)</td>\n",
       "      <td>9.031</td>\n",
       "    </tr>\n",
       "    <tr>\n",
       "      <th>35</th>\n",
       "      <td>(Toilet_Paper, Potatoes)</td>\n",
       "      <td>(White_Bread)</td>\n",
       "      <td>7.319</td>\n",
       "    </tr>\n",
       "    <tr>\n",
       "      <th>37</th>\n",
       "      <td>(Toothpaste, Toilet_Paper)</td>\n",
       "      <td>(White_Bread)</td>\n",
       "      <td>7.346</td>\n",
       "    </tr>\n",
       "    <tr>\n",
       "      <th>41</th>\n",
       "      <td>(Eggs, Potato_Chips, White_Bread)</td>\n",
       "      <td>(2pct_Milk)</td>\n",
       "      <td>7.143</td>\n",
       "    </tr>\n",
       "    <tr>\n",
       "      <th>44</th>\n",
       "      <td>(Eggs, Toothpaste, White_Bread)</td>\n",
       "      <td>(2pct_Milk)</td>\n",
       "      <td>7.261</td>\n",
       "    </tr>\n",
       "    <tr>\n",
       "      <th>46</th>\n",
       "      <td>(Toothpaste, Potato_Chips, 2pct_Milk)</td>\n",
       "      <td>(White_Bread)</td>\n",
       "      <td>7.319</td>\n",
       "    </tr>\n",
       "    <tr>\n",
       "      <th>47</th>\n",
       "      <td>(Toothpaste, 2pct_Milk, White_Bread)</td>\n",
       "      <td>(Potato_Chips)</td>\n",
       "      <td>7.726</td>\n",
       "    </tr>\n",
       "    <tr>\n",
       "      <th>48</th>\n",
       "      <td>(Toothpaste, Potato_Chips, White_Bread)</td>\n",
       "      <td>(2pct_Milk)</td>\n",
       "      <td>7.569</td>\n",
       "    </tr>\n",
       "    <tr>\n",
       "      <th>49</th>\n",
       "      <td>(2pct_Milk, Potato_Chips, White_Bread)</td>\n",
       "      <td>(Toothpaste)</td>\n",
       "      <td>9.514</td>\n",
       "    </tr>\n",
       "  </tbody>\n",
       "</table>\n",
       "</div>"
      ],
      "text/plain": [
       "                                antecedents                 consequents   lift\n",
       "2                    (Bananas, White_Bread)                 (2pct_Milk)  7.261\n",
       "3                       (Cola, Wheat_Bread)                 (2pct_Milk)  7.261\n",
       "8                     (Onions, Wheat_Bread)                 (2pct_Milk)  7.574\n",
       "10                  (Wheat_Bread, Potatoes)                 (2pct_Milk)  7.053\n",
       "13                (Toothpaste, Wheat_Bread)                 (2pct_Milk)  7.380\n",
       "16            (Hamburger_Buns, White_Bread)  (98pct_Fat_Free_Hamburger)  8.202\n",
       "17  (98pct_Fat_Free_Hamburger, Wheat_Bread)               (White_Bread)  7.556\n",
       "29             (Hot_Dog_Buns, Sweet_Relish)                  (Hot_Dogs)  9.031\n",
       "35                 (Toilet_Paper, Potatoes)               (White_Bread)  7.319\n",
       "37               (Toothpaste, Toilet_Paper)               (White_Bread)  7.346\n",
       "41        (Eggs, Potato_Chips, White_Bread)                 (2pct_Milk)  7.143\n",
       "44          (Eggs, Toothpaste, White_Bread)                 (2pct_Milk)  7.261\n",
       "46    (Toothpaste, Potato_Chips, 2pct_Milk)               (White_Bread)  7.319\n",
       "47     (Toothpaste, 2pct_Milk, White_Bread)              (Potato_Chips)  7.726\n",
       "48  (Toothpaste, Potato_Chips, White_Bread)                 (2pct_Milk)  7.569\n",
       "49   (2pct_Milk, Potato_Chips, White_Bread)                (Toothpaste)  9.514"
      ]
     },
     "execution_count": 31,
     "metadata": {},
     "output_type": "execute_result"
    }
   ],
   "source": [
    "#affichage des règles avec un LIFT supérieur ou égal à 7\n",
    "myRegles[myRegles['lift'].ge(7.0)]"
   ]
  },
  {
   "cell_type": "code",
   "execution_count": 32,
   "id": "b6ed0874",
   "metadata": {},
   "outputs": [
    {
     "data": {
      "text/html": [
       "<div>\n",
       "<style scoped>\n",
       "    .dataframe tbody tr th:only-of-type {\n",
       "        vertical-align: middle;\n",
       "    }\n",
       "\n",
       "    .dataframe tbody tr th {\n",
       "        vertical-align: top;\n",
       "    }\n",
       "\n",
       "    .dataframe thead th {\n",
       "        text-align: right;\n",
       "    }\n",
       "</style>\n",
       "<table border=\"1\" class=\"dataframe\">\n",
       "  <thead>\n",
       "    <tr style=\"text-align: right;\">\n",
       "      <th></th>\n",
       "      <th>antecedents</th>\n",
       "      <th>consequents</th>\n",
       "      <th>lift</th>\n",
       "    </tr>\n",
       "  </thead>\n",
       "  <tbody>\n",
       "    <tr>\n",
       "      <th>49</th>\n",
       "      <td>(2pct_Milk, Potato_Chips, White_Bread)</td>\n",
       "      <td>(Toothpaste)</td>\n",
       "      <td>9.514</td>\n",
       "    </tr>\n",
       "    <tr>\n",
       "      <th>29</th>\n",
       "      <td>(Hot_Dog_Buns, Sweet_Relish)</td>\n",
       "      <td>(Hot_Dogs)</td>\n",
       "      <td>9.031</td>\n",
       "    </tr>\n",
       "    <tr>\n",
       "      <th>16</th>\n",
       "      <td>(Hamburger_Buns, White_Bread)</td>\n",
       "      <td>(98pct_Fat_Free_Hamburger)</td>\n",
       "      <td>8.202</td>\n",
       "    </tr>\n",
       "    <tr>\n",
       "      <th>47</th>\n",
       "      <td>(Toothpaste, 2pct_Milk, White_Bread)</td>\n",
       "      <td>(Potato_Chips)</td>\n",
       "      <td>7.726</td>\n",
       "    </tr>\n",
       "    <tr>\n",
       "      <th>8</th>\n",
       "      <td>(Onions, Wheat_Bread)</td>\n",
       "      <td>(2pct_Milk)</td>\n",
       "      <td>7.574</td>\n",
       "    </tr>\n",
       "    <tr>\n",
       "      <th>48</th>\n",
       "      <td>(Toothpaste, Potato_Chips, White_Bread)</td>\n",
       "      <td>(2pct_Milk)</td>\n",
       "      <td>7.569</td>\n",
       "    </tr>\n",
       "    <tr>\n",
       "      <th>17</th>\n",
       "      <td>(98pct_Fat_Free_Hamburger, Wheat_Bread)</td>\n",
       "      <td>(White_Bread)</td>\n",
       "      <td>7.556</td>\n",
       "    </tr>\n",
       "    <tr>\n",
       "      <th>13</th>\n",
       "      <td>(Toothpaste, Wheat_Bread)</td>\n",
       "      <td>(2pct_Milk)</td>\n",
       "      <td>7.380</td>\n",
       "    </tr>\n",
       "    <tr>\n",
       "      <th>37</th>\n",
       "      <td>(Toothpaste, Toilet_Paper)</td>\n",
       "      <td>(White_Bread)</td>\n",
       "      <td>7.346</td>\n",
       "    </tr>\n",
       "    <tr>\n",
       "      <th>46</th>\n",
       "      <td>(Toothpaste, Potato_Chips, 2pct_Milk)</td>\n",
       "      <td>(White_Bread)</td>\n",
       "      <td>7.319</td>\n",
       "    </tr>\n",
       "  </tbody>\n",
       "</table>\n",
       "</div>"
      ],
      "text/plain": [
       "                                antecedents                 consequents   lift\n",
       "49   (2pct_Milk, Potato_Chips, White_Bread)                (Toothpaste)  9.514\n",
       "29             (Hot_Dog_Buns, Sweet_Relish)                  (Hot_Dogs)  9.031\n",
       "16            (Hamburger_Buns, White_Bread)  (98pct_Fat_Free_Hamburger)  8.202\n",
       "47     (Toothpaste, 2pct_Milk, White_Bread)              (Potato_Chips)  7.726\n",
       "8                     (Onions, Wheat_Bread)                 (2pct_Milk)  7.574\n",
       "48  (Toothpaste, Potato_Chips, White_Bread)                 (2pct_Milk)  7.569\n",
       "17  (98pct_Fat_Free_Hamburger, Wheat_Bread)               (White_Bread)  7.556\n",
       "13                (Toothpaste, Wheat_Bread)                 (2pct_Milk)  7.380\n",
       "37               (Toothpaste, Toilet_Paper)               (White_Bread)  7.346\n",
       "46    (Toothpaste, Potato_Chips, 2pct_Milk)               (White_Bread)  7.319"
      ]
     },
     "execution_count": 32,
     "metadata": {},
     "output_type": "execute_result"
    }
   ],
   "source": [
    "#trier les règles dans l'ordre du lift décroissants - 10 meilleurs règles\n",
    "myRegles.sort_values(by='lift',ascending=False)[:10]"
   ]
  },
  {
   "cell_type": "code",
   "execution_count": 33,
   "id": "264ae4a2",
   "metadata": {},
   "outputs": [
    {
     "data": {
      "text/html": [
       "<div>\n",
       "<style scoped>\n",
       "    .dataframe tbody tr th:only-of-type {\n",
       "        vertical-align: middle;\n",
       "    }\n",
       "\n",
       "    .dataframe tbody tr th {\n",
       "        vertical-align: top;\n",
       "    }\n",
       "\n",
       "    .dataframe thead th {\n",
       "        text-align: right;\n",
       "    }\n",
       "</style>\n",
       "<table border=\"1\" class=\"dataframe\">\n",
       "  <thead>\n",
       "    <tr style=\"text-align: right;\">\n",
       "      <th></th>\n",
       "      <th>antecedents</th>\n",
       "      <th>consequents</th>\n",
       "      <th>lift</th>\n",
       "    </tr>\n",
       "  </thead>\n",
       "  <tbody>\n",
       "    <tr>\n",
       "      <th>2</th>\n",
       "      <td>(Bananas, White_Bread)</td>\n",
       "      <td>(2pct_Milk)</td>\n",
       "      <td>7.261</td>\n",
       "    </tr>\n",
       "    <tr>\n",
       "      <th>3</th>\n",
       "      <td>(Cola, Wheat_Bread)</td>\n",
       "      <td>(2pct_Milk)</td>\n",
       "      <td>7.261</td>\n",
       "    </tr>\n",
       "    <tr>\n",
       "      <th>7</th>\n",
       "      <td>(Eggs, Wheat_Bread)</td>\n",
       "      <td>(2pct_Milk)</td>\n",
       "      <td>6.970</td>\n",
       "    </tr>\n",
       "    <tr>\n",
       "      <th>8</th>\n",
       "      <td>(Onions, Wheat_Bread)</td>\n",
       "      <td>(2pct_Milk)</td>\n",
       "      <td>7.574</td>\n",
       "    </tr>\n",
       "    <tr>\n",
       "      <th>9</th>\n",
       "      <td>(Toothpaste, Potato_Chips)</td>\n",
       "      <td>(2pct_Milk)</td>\n",
       "      <td>6.980</td>\n",
       "    </tr>\n",
       "    <tr>\n",
       "      <th>10</th>\n",
       "      <td>(Wheat_Bread, Potatoes)</td>\n",
       "      <td>(2pct_Milk)</td>\n",
       "      <td>7.053</td>\n",
       "    </tr>\n",
       "    <tr>\n",
       "      <th>13</th>\n",
       "      <td>(Toothpaste, Wheat_Bread)</td>\n",
       "      <td>(2pct_Milk)</td>\n",
       "      <td>7.380</td>\n",
       "    </tr>\n",
       "    <tr>\n",
       "      <th>41</th>\n",
       "      <td>(Eggs, Potato_Chips, White_Bread)</td>\n",
       "      <td>(2pct_Milk)</td>\n",
       "      <td>7.143</td>\n",
       "    </tr>\n",
       "    <tr>\n",
       "      <th>44</th>\n",
       "      <td>(Eggs, Toothpaste, White_Bread)</td>\n",
       "      <td>(2pct_Milk)</td>\n",
       "      <td>7.261</td>\n",
       "    </tr>\n",
       "    <tr>\n",
       "      <th>48</th>\n",
       "      <td>(Toothpaste, Potato_Chips, White_Bread)</td>\n",
       "      <td>(2pct_Milk)</td>\n",
       "      <td>7.569</td>\n",
       "    </tr>\n",
       "  </tbody>\n",
       "</table>\n",
       "</div>"
      ],
      "text/plain": [
       "                                antecedents  consequents   lift\n",
       "2                    (Bananas, White_Bread)  (2pct_Milk)  7.261\n",
       "3                       (Cola, Wheat_Bread)  (2pct_Milk)  7.261\n",
       "7                       (Eggs, Wheat_Bread)  (2pct_Milk)  6.970\n",
       "8                     (Onions, Wheat_Bread)  (2pct_Milk)  7.574\n",
       "9                (Toothpaste, Potato_Chips)  (2pct_Milk)  6.980\n",
       "10                  (Wheat_Bread, Potatoes)  (2pct_Milk)  7.053\n",
       "13                (Toothpaste, Wheat_Bread)  (2pct_Milk)  7.380\n",
       "41        (Eggs, Potato_Chips, White_Bread)  (2pct_Milk)  7.143\n",
       "44          (Eggs, Toothpaste, White_Bread)  (2pct_Milk)  7.261\n",
       "48  (Toothpaste, Potato_Chips, White_Bread)  (2pct_Milk)  7.569"
      ]
     },
     "execution_count": 33,
     "metadata": {},
     "output_type": "execute_result"
    }
   ],
   "source": [
    "#filtrer les règles menant à 2pct_milk\n",
    "myRegles[myRegles['consequents'].eq({'2pct_Milk'})]"
   ]
  },
  {
   "cell_type": "code",
   "execution_count": 34,
   "id": "c5db631b",
   "metadata": {},
   "outputs": [
    {
     "data": {
      "text/html": [
       "<div>\n",
       "<style scoped>\n",
       "    .dataframe tbody tr th:only-of-type {\n",
       "        vertical-align: middle;\n",
       "    }\n",
       "\n",
       "    .dataframe tbody tr th {\n",
       "        vertical-align: top;\n",
       "    }\n",
       "\n",
       "    .dataframe thead th {\n",
       "        text-align: right;\n",
       "    }\n",
       "</style>\n",
       "<table border=\"1\" class=\"dataframe\">\n",
       "  <thead>\n",
       "    <tr style=\"text-align: right;\">\n",
       "      <th></th>\n",
       "      <th>antecedents</th>\n",
       "      <th>consequents</th>\n",
       "      <th>lift</th>\n",
       "    </tr>\n",
       "  </thead>\n",
       "  <tbody>\n",
       "    <tr>\n",
       "      <th>0</th>\n",
       "      <td>(2pct_Milk, Aspirin)</td>\n",
       "      <td>(White_Bread)</td>\n",
       "      <td>6.609</td>\n",
       "    </tr>\n",
       "    <tr>\n",
       "      <th>18</th>\n",
       "      <td>(Eggs, Aspirin)</td>\n",
       "      <td>(White_Bread)</td>\n",
       "      <td>6.458</td>\n",
       "    </tr>\n",
       "    <tr>\n",
       "      <th>19</th>\n",
       "      <td>(Aspirin, Potato_Chips)</td>\n",
       "      <td>(White_Bread)</td>\n",
       "      <td>6.339</td>\n",
       "    </tr>\n",
       "    <tr>\n",
       "      <th>20</th>\n",
       "      <td>(Aspirin, Potatoes)</td>\n",
       "      <td>(White_Bread)</td>\n",
       "      <td>6.962</td>\n",
       "    </tr>\n",
       "    <tr>\n",
       "      <th>21</th>\n",
       "      <td>(Toothpaste, Aspirin)</td>\n",
       "      <td>(White_Bread)</td>\n",
       "      <td>6.996</td>\n",
       "    </tr>\n",
       "  </tbody>\n",
       "</table>\n",
       "</div>"
      ],
      "text/plain": [
       "                antecedents    consequents   lift\n",
       "0      (2pct_Milk, Aspirin)  (White_Bread)  6.609\n",
       "18          (Eggs, Aspirin)  (White_Bread)  6.458\n",
       "19  (Aspirin, Potato_Chips)  (White_Bread)  6.339\n",
       "20      (Aspirin, Potatoes)  (White_Bread)  6.962\n",
       "21    (Toothpaste, Aspirin)  (White_Bread)  6.996"
      ]
     },
     "execution_count": 34,
     "metadata": {},
     "output_type": "execute_result"
    }
   ],
   "source": [
    "#filtrer les règles contenant 'Aspirin' dans l'antécédent\n",
    "myRegles[myRegles['antecedents'].ge({'Aspirin'})]"
   ]
  },
  {
   "cell_type": "code",
   "execution_count": null,
   "id": "8fa9b5e3",
   "metadata": {},
   "outputs": [],
   "source": []
  }
 ],
 "metadata": {
  "kernelspec": {
   "display_name": "Python 3 (ipykernel)",
   "language": "python",
   "name": "python3"
  },
  "language_info": {
   "codemirror_mode": {
    "name": "ipython",
    "version": 3
   },
   "file_extension": ".py",
   "mimetype": "text/x-python",
   "name": "python",
   "nbconvert_exporter": "python",
   "pygments_lexer": "ipython3",
   "version": "3.9.7"
  }
 },
 "nbformat": 4,
 "nbformat_minor": 5
}
